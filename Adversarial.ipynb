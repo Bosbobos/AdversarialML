{
 "cells": [
  {
   "cell_type": "markdown",
   "id": "2ed521ea8e02953d",
   "metadata": {},
   "source": [
    "# Adversarial machine learning\n",
    "\n",
    "В самом широком понимании этого слова, это наука об атаках на алгоритмы машинного обучения и способах защиты от них\n",
    "\n",
    "В данной работе будет рассмотрен пример такой атаки. Сначала будет обучена модель для распознавания цифр на картинке, затем будут сформированы примеры (adversarial examples), изменяющие показания модели\n",
    "\n",
    "Работа выполнена студентом БИБ233 МИЭМ НИУ ВШЭ Коноваловым Матвеем\n",
    "\n"
   ]
  },
  {
   "cell_type": "markdown",
   "id": "d83d678ef1006ef7",
   "metadata": {},
   "source": [
    "## Обучение модели\n",
    "Сначала скачаем [модель](https://github.com/ultralytics/ultralytics/blob/main/docs/en/models/yolov8.md)\n",
    "\n",
    "Была выбрана модель YOLOv8, предназначенная для задачи классификации, имеющая малое количество параметров. Большие модели могли бы замедлить эксперимент, меньшие представляли бы меньше интереса"
   ]
  },
  {
   "cell_type": "code",
   "id": "5339a00d90757118",
   "metadata": {
    "ExecuteTime": {
     "end_time": "2025-06-12T16:03:59.484073Z",
     "start_time": "2025-06-12T16:03:57.405119Z"
    }
   },
   "source": [
    "from ultralytics import YOLO\n",
    "\n",
    "model = YOLO(\"yolov8s-cls.pt\")\n",
    "model.info()"
   ],
   "outputs": [
    {
     "name": "stdout",
     "output_type": "stream",
     "text": [
      "YOLOv8s-cls summary: 56 layers, 6,361,736 parameters, 0 gradients, 13.6 GFLOPs\n"
     ]
    },
    {
     "data": {
      "text/plain": [
       "(56, 6361736, 0, 13.609779199999998)"
      ]
     },
     "execution_count": 2,
     "metadata": {},
     "output_type": "execute_result"
    }
   ],
   "execution_count": 2
  },
  {
   "cell_type": "markdown",
   "id": "e1438bbf1ed49f64",
   "metadata": {},
   "source": [
    "Затем скачаем датасет и приведем его в формат, совместимый с YOLO"
   ]
  },
  {
   "cell_type": "code",
   "id": "dd4c89b0c3e9865b",
   "metadata": {
    "ExecuteTime": {
     "end_time": "2025-06-12T16:05:11.806244Z",
     "start_time": "2025-06-12T16:04:01.998903Z"
    }
   },
   "source": [
    "from datasets import load_dataset\n",
    "from pathlib import Path\n",
    "\n",
    "ds = load_dataset(\"ufldl-stanford/svhn\", \"cropped_digits\")\n",
    "root = Path(\"datasets/svhn_cls\")\n",
    "splits = [\"train\", \"test\"]\n",
    "\n",
    "for split in splits:\n",
    "    split_ds = ds[split]\n",
    "    for i, example in enumerate(split_ds):\n",
    "        label = str(example[\"label\"])\n",
    "        out_dir = root / split / label\n",
    "        out_dir.mkdir(parents=True, exist_ok=True)\n",
    "        example[\"image\"].save(out_dir / f\"{i}.png\")"
   ],
   "outputs": [],
   "execution_count": 3
  },
  {
   "cell_type": "markdown",
   "id": "d89db540db131982",
   "metadata": {},
   "source": [
    "Обучим модель"
   ]
  },
  {
   "cell_type": "code",
   "id": "f9bbd7fd9c81706d",
   "metadata": {},
   "source": [
    "model.train(data=root,\n",
    "            epochs=50,\n",
    "            batch=128,\n",
    "            verbose=False)"
   ],
   "outputs": [],
   "execution_count": null
  },
  {
   "metadata": {},
   "cell_type": "markdown",
   "source": "Посмотрим качество модели",
   "id": "bfe8b95840b26594"
  },
  {
   "metadata": {
    "ExecuteTime": {
     "end_time": "2025-06-12T16:17:08.196532Z",
     "start_time": "2025-06-12T16:16:31.897944Z"
    }
   },
   "cell_type": "code",
   "source": "model.val()",
   "id": "6bf05c0dc65d0888",
   "outputs": [
    {
     "name": "stdout",
     "output_type": "stream",
     "text": [
      "Ultralytics 8.3.153  Python-3.11.9 torch-2.1.2+cu121 CUDA:0 (NVIDIA GeForce RTX 4060 Ti, 8188MiB)\n",
      "YOLOv8s-cls summary (fused): 30 layers, 5,088,010 parameters, 0 gradients, 12.5 GFLOPs\n",
      "WARNING Dataset 'split=val' not found, using 'split=test' instead.\n",
      "\u001B[34m\u001B[1mtrain:\u001B[0m C:\\Users\\ok__\\PycharmProjects\\MLSecOps\\datasets\\svhn_cls\\train... found 73257 images in 10 classes  \n",
      "\u001B[34m\u001B[1mval:\u001B[0m C:\\Users\\ok__\\PycharmProjects\\MLSecOps\\datasets\\svhn_cls\\test... found 26032 images in 10 classes  \n",
      "\u001B[34m\u001B[1mtest:\u001B[0m C:\\Users\\ok__\\PycharmProjects\\MLSecOps\\datasets\\svhn_cls\\test... found 26032 images in 10 classes  \n",
      "\u001B[34m\u001B[1mval: \u001B[0mFast image access  (ping: 0.00.0 ms, read: 21.05.2 MB/s, size: 1.7 KB)\n"
     ]
    },
    {
     "name": "stderr",
     "output_type": "stream",
     "text": [
      "\u001B[34m\u001B[1mval: \u001B[0mScanning C:\\Users\\ok__\\PycharmProjects\\MLSecOps\\datasets\\svhn_cls\\test... 26032 images, 0 corrupt: 100%|██████████| 26032/26032 [00:00<?, ?it/s]\n",
      "               classes   top1_acc   top5_acc: 100%|██████████| 1627/1627 [00:11<00:00, 145.36it/s]\n"
     ]
    },
    {
     "name": "stdout",
     "output_type": "stream",
     "text": [
      "                   all       0.97      0.997\n",
      "Speed: 0.1ms preprocess, 0.3ms inference, 0.0ms loss, 0.0ms postprocess per image\n",
      "Results saved to \u001B[1mruns\\classify\\val2\u001B[0m\n"
     ]
    },
    {
     "data": {
      "text/plain": [
       "ultralytics.utils.metrics.ClassifyMetrics object with attributes:\n",
       "\n",
       "confusion_matrix: <ultralytics.utils.metrics.ConfusionMatrix object at 0x00000276AF828FD0>\n",
       "curves: []\n",
       "curves_results: []\n",
       "fitness: 0.9836931526660919\n",
       "keys: ['metrics/accuracy_top1', 'metrics/accuracy_top5']\n",
       "results_dict: {'metrics/accuracy_top1': 0.9702289700508118, 'metrics/accuracy_top5': 0.9971573352813721, 'fitness': 0.9836931526660919}\n",
       "save_dir: WindowsPath('runs/classify/val2')\n",
       "speed: {'preprocess': 0.052707052859466745, 'inference': 0.29765943838272885, 'loss': 0.0003550591580862303, 'postprocess': 0.000511593423185487}\n",
       "task: 'classify'\n",
       "top1: 0.9702289700508118\n",
       "top5: 0.9971573352813721"
      ]
     },
     "execution_count": 4,
     "metadata": {},
     "output_type": "execute_result"
    }
   ],
   "execution_count": 4
  },
  {
   "cell_type": "markdown",
   "id": "455d8007a6c2d137",
   "metadata": {},
   "source": [
    "Отлично, модель обучилась и имеет долю правильных ответов 97%, при этом правильный ответ находится в топ 5 в 99,7% случаев\n",
    "Обученную модель можно скачать по [ссылке](https://disk.360.yandex.ru/d/r-5SqYBdwTfuuQ) (рекомендуется положить её в папку models)\n",
    "\n"
   ]
  },
  {
   "cell_type": "markdown",
   "id": "aaf8c7f3bf1d266d",
   "metadata": {},
   "source": [
    "## Проведение атаки\n",
    "Для начала зададим все нужные параметры\n"
   ]
  },
  {
   "cell_type": "code",
   "id": "e2fb25fab5b3e47c",
   "metadata": {
    "ExecuteTime": {
     "end_time": "2025-06-12T16:16:13.742776Z",
     "start_time": "2025-06-12T16:16:11.522754Z"
    }
   },
   "source": [
    "from pathlib import Path\n",
    "import torch\n",
    "import numpy as np\n",
    "import random\n",
    "\n",
    "MODEL_PATH = Path('models/best.pt')\n",
    "DATA_DIR = Path(\"datasets/svhn_cls/test\")\n",
    "N_SAMPLES = 1000 # Количество картинок, к которым будем генерировать adv. примеры\n",
    "EPS = 1e-2 # Гиперпараметр атаки (насколько сильно искажаем изображение: большие значения видны визуально)\n",
    "IMG_SIZE = 32\n",
    "OUT_DIR = Path('Adv_examples')\n",
    "OUT_DIR.mkdir(exist_ok=True, parents=True)\n",
    "SEED = 17\n",
    "random.seed(SEED); np.random.seed(SEED); torch.manual_seed(SEED)\n",
    "device = \"cuda\" if torch.cuda.is_available() else \"cpu\"\n",
    "device"
   ],
   "outputs": [
    {
     "data": {
      "text/plain": [
       "'cuda'"
      ]
     },
     "execution_count": 1,
     "metadata": {},
     "output_type": "execute_result"
    }
   ],
   "execution_count": 1
  },
  {
   "metadata": {
    "ExecuteTime": {
     "end_time": "2025-06-12T16:16:29.530792Z",
     "start_time": "2025-06-12T16:16:29.513241Z"
    }
   },
   "cell_type": "code",
   "source": "model  = YOLO(MODEL_PATH)",
   "id": "c50bf33c5e628b47",
   "outputs": [],
   "execution_count": 3
  },
  {
   "cell_type": "markdown",
   "id": "e352f8499653e39f",
   "metadata": {},
   "source": [
    "Положим [модель](https://disk.360.yandex.ru/d/r-5SqYBdwTfuuQ) в папку, указанную выше и считаем её.\n",
    "\n",
    "Указав функцию потерь, добавим модель в PyTorchClassifier, с которым уже умеет работать ART.\n",
    "\n",
    "Однако, напрямую её туда положить нельзя (т.к. ART ожидает только логиты, а YOLO выдаёт и другие результаты в ответе), так что сделаем это через адаптер"
   ]
  },
  {
   "cell_type": "code",
   "execution_count": 20,
   "id": "cdd2dd499cd20cd4",
   "metadata": {
    "ExecuteTime": {
     "end_time": "2025-06-12T14:40:05.391543Z",
     "start_time": "2025-06-12T14:40:05.387761Z"
    }
   },
   "outputs": [],
   "source": [
    "class YoloClsAdapter(torch.nn.Module):\n",
    "    def __init__(self, core_model):\n",
    "        super().__init__()\n",
    "        self.core = core_model\n",
    "\n",
    "    def forward(self, x):\n",
    "        out = self.core(x)\n",
    "        if isinstance(out, (list, tuple)):\n",
    "            out = out[0]\n",
    "        return out"
   ]
  },
  {
   "cell_type": "code",
   "id": "6660cb048b5b5441",
   "metadata": {
    "ExecuteTime": {
     "end_time": "2025-06-12T16:16:22.850124Z",
     "start_time": "2025-06-12T16:16:19.353614Z"
    }
   },
   "source": [
    "from ultralytics import YOLO\n",
    "from art.estimators.classification import PyTorchClassifier\n",
    "\n",
    "yolo  = YOLO(MODEL_PATH)\n",
    "adapter = YoloClsAdapter(yolo.model).to(device).eval()\n",
    "\n",
    "loss = torch.nn.CrossEntropyLoss()\n",
    "\n",
    "classifier = PyTorchClassifier(\n",
    "    model=adapter,\n",
    "    loss=loss,\n",
    "    nb_classes=10,\n",
    "    input_shape=(3, IMG_SIZE, IMG_SIZE),\n",
    "    clip_values=(0.0, 1.0),\n",
    "    device_type=device\n",
    ")"
   ],
   "outputs": [
    {
     "ename": "NameError",
     "evalue": "name 'YoloClsAdapter' is not defined",
     "output_type": "error",
     "traceback": [
      "\u001B[31m---------------------------------------------------------------------------\u001B[39m",
      "\u001B[31mNameError\u001B[39m                                 Traceback (most recent call last)",
      "\u001B[36mCell\u001B[39m\u001B[36m \u001B[39m\u001B[32mIn[2]\u001B[39m\u001B[32m, line 5\u001B[39m\n\u001B[32m      2\u001B[39m \u001B[38;5;28;01mfrom\u001B[39;00m\u001B[38;5;250m \u001B[39m\u001B[34;01mart\u001B[39;00m\u001B[34;01m.\u001B[39;00m\u001B[34;01mestimators\u001B[39;00m\u001B[34;01m.\u001B[39;00m\u001B[34;01mclassification\u001B[39;00m\u001B[38;5;250m \u001B[39m\u001B[38;5;28;01mimport\u001B[39;00m PyTorchClassifier\n\u001B[32m      4\u001B[39m yolo  = YOLO(MODEL_PATH)\n\u001B[32m----> \u001B[39m\u001B[32m5\u001B[39m adapter = \u001B[43mYoloClsAdapter\u001B[49m(yolo.model).to(device).eval()\n\u001B[32m      7\u001B[39m loss = torch.nn.CrossEntropyLoss()\n\u001B[32m      9\u001B[39m classifier = PyTorchClassifier(\n\u001B[32m     10\u001B[39m     model=adapter,\n\u001B[32m     11\u001B[39m     loss=loss,\n\u001B[32m   (...)\u001B[39m\u001B[32m     15\u001B[39m     device_type=device\n\u001B[32m     16\u001B[39m )\n",
      "\u001B[31mNameError\u001B[39m: name 'YoloClsAdapter' is not defined"
     ]
    }
   ],
   "execution_count": 2
  },
  {
   "cell_type": "markdown",
   "id": "380990a66075ad1d",
   "metadata": {},
   "source": [
    "Считаем датасет в формате, понятном ART"
   ]
  },
  {
   "cell_type": "code",
   "id": "7530895b51348b29",
   "metadata": {
    "ExecuteTime": {
     "end_time": "2025-06-12T15:41:00.126601Z",
     "start_time": "2025-06-12T15:40:59.510675Z"
    }
   },
   "source": [
    "from PIL import Image\n",
    "\n",
    "all_files = list(DATA_DIR.glob(\"*/*.png\"))\n",
    "assert all_files, f\"Ничего не найдено в {DATA_DIR}\"\n",
    "\n",
    "idx_files = random.sample(all_files, N_SAMPLES) # Выбираем N_SAMPLES картинок\n",
    "\n",
    "x, y = [], []\n",
    "for fp in idx_files:\n",
    "    img = Image.open(fp).convert(\"RGB\").resize((IMG_SIZE, IMG_SIZE))\n",
    "    arr = np.asarray(img, dtype=np.float32) / 255.0 # → [0,1]\n",
    "    arr = arr.transpose(2, 0, 1) # HWC → CHW\n",
    "    x.append(arr)\n",
    "    y.append(int(fp.parent.name))\n",
    "\n",
    "x = np.stack(x, axis=0)\n",
    "y = np.asarray(y)"
   ],
   "outputs": [],
   "execution_count": 53
  },
  {
   "cell_type": "markdown",
   "id": "374140f2296659c3",
   "metadata": {},
   "source": [
    "Наконец, самое интересное: проводим атаку и считаем процент успешности"
   ]
  },
  {
   "cell_type": "code",
   "id": "cb91b3164252d6f0",
   "metadata": {
    "ExecuteTime": {
     "end_time": "2025-06-12T15:41:03.907478Z",
     "start_time": "2025-06-12T15:41:02.964506Z"
    }
   },
   "source": [
    "from art.attacks.evasion import FastGradientMethod\n",
    "\n",
    "attack = FastGradientMethod(estimator=classifier, eps=EPS)\n",
    "x_adv  = attack.generate(x=x)\n",
    "\n",
    "pred_orig = classifier.predict(x)\n",
    "pred_adv  = classifier.predict(x_adv)\n",
    "\n",
    "label_orig = np.argmax(pred_orig, axis=1)\n",
    "label_adv  = np.argmax(pred_adv, axis=1)\n",
    "\n",
    "orig_correct = label_orig == y\n",
    "asr          = (orig_correct & (label_adv != y)).sum() / orig_correct.sum()\n",
    "\n",
    "print(f\"Процент успешности атаки: {asr*100:.2f}%\")"
   ],
   "outputs": [
    {
     "name": "stdout",
     "output_type": "stream",
     "text": [
      "Процент успешности атаки: 89.02%\n"
     ]
    }
   ],
   "execution_count": 54
  },
  {
   "cell_type": "markdown",
   "id": "35cdf5a3ac8f096e",
   "metadata": {},
   "source": [
    "Результат получили отличный. Теперь визуально проверим, насколько видны изменения в изображениях\n",
    "\n",
    "Выведем 10 картинок, которые до атаки предсказывались правильно, а после атаки стали предсказываться иначе"
   ]
  },
  {
   "cell_type": "code",
   "id": "57145dd06fb0bc39",
   "metadata": {
    "ExecuteTime": {
     "end_time": "2025-06-12T15:41:08.483733Z",
     "start_time": "2025-06-12T15:41:08.472600Z"
    }
   },
   "source": [
    "import base64, io\n",
    "import pandas as pd\n",
    "from IPython.display import HTML\n",
    "\n",
    "# Выбираем наши 10 примеров с изначально правильным предсказанием, изменившимся на неправильное\n",
    "success_idxs = np.where((label_orig == y) & (label_adv != y))[0][:10]\n",
    "assert len(success_idxs), \"Нет успешных adversarial-примеров!\"\n",
    "\n",
    "rows = []\n",
    "for idx in success_idxs:\n",
    "    # Подготовим изображения\n",
    "    orig_arr = (x[idx].transpose(1, 2, 0) * 255).astype(np.uint8) # CHW → HWC\n",
    "    adv_arr  = (x_adv[idx].transpose(1, 2, 0) * 255).clip(0, 255).astype(np.uint8)\n",
    "\n",
    "    def arr_to_b64(arr):\n",
    "        buf = io.BytesIO()\n",
    "        Image.fromarray(arr).save(buf, format=\"PNG\")\n",
    "        return base64.b64encode(buf.getvalue()).decode()\n",
    "\n",
    "    orig_b64 = arr_to_b64(orig_arr)\n",
    "    adv_b64  = arr_to_b64(adv_arr)\n",
    "\n",
    "    # Извлекаем классы и уверенности\n",
    "    orig_class = label_orig[idx]\n",
    "    adv_class  = label_adv[idx]\n",
    "    orig_conf  = float(pred_orig[idx, orig_class])\n",
    "    adv_conf   = float(pred_adv[idx, adv_class])\n",
    "\n",
    "    rows.append({\n",
    "        \"Исходное изображение\": (\n",
    "            f'<img src=\"data:image/png;base64,{orig_b64}\" width=\"64\"><br>'\n",
    "            f'<b>{orig_class}</b> ({orig_conf:.2%})'\n",
    "        ),\n",
    "        \"Изменённое изображение\": (\n",
    "            f'<img src=\"data:image/png;base64,{adv_b64}\" width=\"64\"><br>'\n",
    "            f'<b>{adv_class}</b> ({adv_conf:.2%})'\n",
    "        ),\n",
    "    })\n",
    "\n",
    "    # Сохраняем изображения\n",
    "\n",
    "\n",
    "df = pd.DataFrame(rows)\n",
    "HTML(df.to_html(escape=False))"
   ],
   "outputs": [
    {
     "data": {
      "text/plain": [
       "<IPython.core.display.HTML object>"
      ],
      "text/html": [
       "<table border=\"1\" class=\"dataframe\">\n",
       "  <thead>\n",
       "    <tr style=\"text-align: right;\">\n",
       "      <th></th>\n",
       "      <th>Исходное изображение</th>\n",
       "      <th>Изменённое изображение</th>\n",
       "    </tr>\n",
       "  </thead>\n",
       "  <tbody>\n",
       "    <tr>\n",
       "      <th>0</th>\n",
       "      <td><img src=\"data:image/png;base64,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\" width=\"64\"><br><b>1</b> (24.91%)</td>\n",
       "      <td><img src=\"data:image/png;base64,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\" width=\"64\"><br><b>2</b> (19.90%)</td>\n",
       "    </tr>\n",
       "    <tr>\n",
       "      <th>1</th>\n",
       "      <td><img src=\"data:image/png;base64,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\" width=\"64\"><br><b>0</b> (39.47%)</td>\n",
       "      <td><img src=\"data:image/png;base64,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\" width=\"64\"><br><b>1</b> (16.66%)</td>\n",
       "    </tr>\n",
       "    <tr>\n",
       "      <th>2</th>\n",
       "      <td><img src=\"data:image/png;base64,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\" width=\"64\"><br><b>2</b> (16.88%)</td>\n",
       "      <td><img src=\"data:image/png;base64,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\" width=\"64\"><br><b>1</b> (19.69%)</td>\n",
       "    </tr>\n",
       "    <tr>\n",
       "      <th>3</th>\n",
       "      <td><img src=\"data:image/png;base64,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\" width=\"64\"><br><b>1</b> (15.57%)</td>\n",
       "      <td><img src=\"data:image/png;base64,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\" width=\"64\"><br><b>0</b> (13.70%)</td>\n",
       "    </tr>\n",
       "    <tr>\n",
       "      <th>4</th>\n",
       "      <td><img src=\"data:image/png;base64,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\" width=\"64\"><br><b>1</b> (14.33%)</td>\n",
       "      <td><img src=\"data:image/png;base64,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\" width=\"64\"><br><b>2</b> (15.96%)</td>\n",
       "    </tr>\n",
       "    <tr>\n",
       "      <th>5</th>\n",
       "      <td><img src=\"data:image/png;base64,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\" width=\"64\"><br><b>1</b> (24.05%)</td>\n",
       "      <td><img src=\"data:image/png;base64,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\" width=\"64\"><br><b>2</b> (19.09%)</td>\n",
       "    </tr>\n",
       "    <tr>\n",
       "      <th>6</th>\n",
       "      <td><img src=\"data:image/png;base64,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\" width=\"64\"><br><b>0</b> (29.90%)</td>\n",
       "      <td><img src=\"data:image/png;base64,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\" width=\"64\"><br><b>2</b> (19.71%)</td>\n",
       "    </tr>\n",
       "    <tr>\n",
       "      <th>7</th>\n",
       "      <td><img src=\"data:image/png;base64,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\" width=\"64\"><br><b>0</b> (44.01%)</td>\n",
       "      <td><img src=\"data:image/png;base64,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\" width=\"64\"><br><b>4</b> (14.33%)</td>\n",
       "    </tr>\n",
       "    <tr>\n",
       "      <th>8</th>\n",
       "      <td><img src=\"data:image/png;base64,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\" width=\"64\"><br><b>1</b> (19.20%)</td>\n",
       "      <td><img src=\"data:image/png;base64,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\" width=\"64\"><br><b>2</b> (13.72%)</td>\n",
       "    </tr>\n",
       "    <tr>\n",
       "      <th>9</th>\n",
       "      <td><img src=\"data:image/png;base64,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\" width=\"64\"><br><b>1</b> (23.05%)</td>\n",
       "      <td><img src=\"data:image/png;base64,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\" width=\"64\"><br><b>2</b> (13.90%)</td>\n",
       "    </tr>\n",
       "  </tbody>\n",
       "</table>"
      ]
     },
     "execution_count": 55,
     "metadata": {},
     "output_type": "execute_result"
    }
   ],
   "execution_count": 55
  },
  {
   "metadata": {},
   "cell_type": "markdown",
   "source": [
    "Изменения почти не видны. Потрясающе\n",
    "\n",
    "Ниже сохраним несколько таких удачных примеров для проведения дальнейших тестов по защите моделей"
   ],
   "id": "4bc4329bccd023d9"
  },
  {
   "metadata": {
    "ExecuteTime": {
     "end_time": "2025-06-12T15:42:52.226550Z",
     "start_time": "2025-06-12T15:42:52.152242Z"
    }
   },
   "cell_type": "code",
   "source": [
    "ORIG_OUT_DIR = Path(OUT_DIR / \"orig\")\n",
    "ORIG_OUT_DIR.mkdir(exist_ok=True, parents=True)\n",
    "ADV_OUT_DIR = Path(OUT_DIR / \"adv\")\n",
    "ADV_OUT_DIR.mkdir(exist_ok=True, parents=True)\n",
    "\n",
    "success_idxs = np.where((label_orig == y) & (label_adv != y))[0][:500]\n",
    "\n",
    "for idx in success_idxs:\n",
    "    # Подготовим изображения\n",
    "    orig_arr = (x[idx].transpose(1, 2, 0) * 255).astype(np.uint8) # CHW → HWC\n",
    "    adv_arr  = (x_adv[idx].transpose(1, 2, 0) * 255).clip(0, 255).astype(np.uint8)\n",
    "\n",
    "    Image.fromarray(orig_arr).save(ORIG_OUT_DIR / f\"{idx}_true{y[idx]}_orig.png\")\n",
    "    Image.fromarray(adv_arr ).save(ADV_OUT_DIR / f\"{idx}_true{y[idx]}_adv{label_adv[idx]}.png\")"
   ],
   "id": "b5cf22a49092032",
   "outputs": [],
   "execution_count": 57
  },
  {
   "metadata": {},
   "cell_type": "markdown",
   "source": [
    "# Вывод\n",
    "В ходе данной работы была обучена модель с accuracy 97%, на которую затем была проведена атака, имеющая процент успешности в 89%.\n",
    "\n",
    "Визуально измененные изображения невозможно отличить от исходных.\n",
    "\n",
    "## Отдельно стоит отметить следующие особенности атаки:\n",
    "### Атака предполагает white-box доступ к модели\n",
    "В реальных условиях это может быть невозможно, однако есть следующие методы исправления этого факта:\n",
    "- model theft может позволить получить модель достаточно близкую, чтобы adv. examples переносились. То есть данная атака может стать частью большей цепочки атак;\n",
    "- можно попробовать использовать похожие модели, к которым мы имеем доступ. Данный вопрос изучался во множестве научных статей и лежит за рамками данной работы.\n",
    "\n",
    "### Быстродействие\n",
    "При наличии обученной модели 1000 adv. примеров генерировалась меньше секунды на относительно слабой GeForce RTX 4060TI. Это отличный показатель, позволяющий, к примеру, подготовить достаточно большой датасет для сочетания с другими атаками (к примеру генерация отравленного датасета).\n",
    "\n",
    "# Дальнейшая работа\n",
    "Способы защиты от таких атак намеренно были оставлены за рамками данной работы и будут изучены в следующей.\n",
    "\n",
    "Так же можно рассмотреть уже упомянутые цепочки атак, которые могут включать эту.\n",
    "\n",
    "Помимо этого всё ещё активно изучается вопрос переносимости adv. примеров от одной модели к другой."
   ],
   "id": "1e081a77781e85df"
  }
 ],
 "metadata": {
  "kernelspec": {
   "display_name": "Python 3 (ipykernel)",
   "language": "python",
   "name": "python3"
  },
  "language_info": {
   "codemirror_mode": {
    "name": "ipython",
    "version": 3
   },
   "file_extension": ".py",
   "mimetype": "text/x-python",
   "name": "python",
   "nbconvert_exporter": "python",
   "pygments_lexer": "ipython3",
   "version": "3.11.9"
  }
 },
 "nbformat": 4,
 "nbformat_minor": 5
}
