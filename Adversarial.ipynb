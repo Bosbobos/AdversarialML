{
 "cells": [
  {
   "metadata": {},
   "cell_type": "markdown",
   "source": [
    "# Adversarial machine learning\n",
    "\n",
    "В самом широком понимании этого слова, это наука об атаках на алгоритмы машинного обучения и способах защиты от них\n",
    "\n",
    "В данной работе будет рассмотрен пример такой атаки. Сначала будет обучена модель для распознавания цифр на картинке, затем будут сформированы примеры (adversarial examples), изменяющие показания модели\n",
    "\n",
    "Работа выполнена студентом БИБ233 МИЭМ НИУ ВШЭ Коноваловым Матвеем\n",
    "\n"
   ],
   "id": "2ed521ea8e02953d"
  },
  {
   "metadata": {},
   "cell_type": "markdown",
   "source": [
    "## Обучение модели\n",
    "Сначала скачаем [модель](https://github.com/ultralytics/ultralytics/blob/main/docs/en/models/yolov8.md)\n",
    "\n",
    "Была выбрана модель YOLOv8, предназначенная для задачи классификации, имеющая малое количество параметров. Большие модели могли бы замедлить эксперимент, меньшие представляли бы меньше интереса"
   ],
   "id": "d83d678ef1006ef7"
  },
  {
   "metadata": {
    "ExecuteTime": {
     "end_time": "2025-06-12T10:31:13.413717Z",
     "start_time": "2025-06-12T10:31:13.334405Z"
    }
   },
   "cell_type": "code",
   "source": [
    "from ultralytics import YOLO\n",
    "\n",
    "model = YOLO(\"yolov8s-cls.pt\")\n",
    "model.info()"
   ],
   "id": "5339a00d90757118",
   "outputs": [
    {
     "name": "stdout",
     "output_type": "stream",
     "text": [
      "YOLOv8s-cls summary: 56 layers, 6,361,736 parameters, 0 gradients, 13.6 GFLOPs\n"
     ]
    },
    {
     "data": {
      "text/plain": [
       "(56, 6361736, 0, 13.609779199999998)"
      ]
     },
     "execution_count": 12,
     "metadata": {},
     "output_type": "execute_result"
    }
   ],
   "execution_count": 12
  },
  {
   "metadata": {},
   "cell_type": "markdown",
   "source": "Затем скачаем датасет и приведем его в формат, совместимый с YOLO",
   "id": "e1438bbf1ed49f64"
  },
  {
   "metadata": {
    "ExecuteTime": {
     "end_time": "2025-06-12T10:20:00.356912Z",
     "start_time": "2025-06-12T10:11:28.351650Z"
    }
   },
   "cell_type": "code",
   "source": [
    "from datasets import load_dataset\n",
    "from pathlib import Path\n",
    "\n",
    "ds = load_dataset(\"ufldl-stanford/svhn\", \"cropped_digits\")\n",
    "root = Path(\"datasets/svhn_cls\")\n",
    "splits = [\"train\", \"test\"]\n",
    "\n",
    "for split in splits:\n",
    "    split_ds = ds[split]\n",
    "    for i, example in enumerate(split_ds):\n",
    "        label = str(example[\"label\"])\n",
    "        out_dir = root / split / label\n",
    "        out_dir.mkdir(parents=True, exist_ok=True)\n",
    "        example[\"image\"].save(out_dir / f\"{i}.png\")"
   ],
   "id": "dd4c89b0c3e9865b",
   "outputs": [],
   "execution_count": 10
  },
  {
   "metadata": {},
   "cell_type": "markdown",
   "source": "Обучим модель",
   "id": "d89db540db131982"
  },
  {
   "metadata": {
    "ExecuteTime": {
     "end_time": "2025-06-12T11:30:38.447580Z",
     "start_time": "2025-06-12T10:33:03.298101Z"
    }
   },
   "cell_type": "code",
   "source": [
    "model.train(data=root,\n",
    "            epochs=50,\n",
    "            batch=128)\n",
    "model.val()"
   ],
   "id": "f9bbd7fd9c81706d",
   "outputs": [
    {
     "name": "stdout",
     "output_type": "stream",
     "text": [
      "Ultralytics 8.3.153  Python-3.11.9 torch-2.1.2+cu121 CUDA:0 (NVIDIA GeForce RTX 4060 Ti, 8188MiB)\n",
      "\u001B[34m\u001B[1mengine\\trainer: \u001B[0magnostic_nms=False, amp=True, augment=False, auto_augment=randaugment, batch=128, bgr=0.0, box=7.5, cache=False, cfg=None, classes=None, close_mosaic=10, cls=0.5, conf=None, copy_paste=0.0, copy_paste_mode=flip, cos_lr=False, cutmix=0.0, data=datasets\\svhn_cls, degrees=0.0, deterministic=True, device=None, dfl=1.5, dnn=False, dropout=0.0, dynamic=False, embed=None, epochs=50, erasing=0.4, exist_ok=False, fliplr=0.5, flipud=0.0, format=torchscript, fraction=1.0, freeze=None, half=False, hsv_h=0.015, hsv_s=0.7, hsv_v=0.4, imgsz=224, int8=False, iou=0.7, keras=False, kobj=1.0, line_width=None, lr0=0.01, lrf=0.01, mask_ratio=4, max_det=300, mixup=0.0, mode=train, model=yolov8s-cls.pt, momentum=0.937, mosaic=1.0, multi_scale=False, name=train3, nbs=64, nms=False, opset=None, optimize=False, optimizer=auto, overlap_mask=True, patience=100, perspective=0.0, plots=True, pose=12.0, pretrained=True, profile=False, project=None, rect=False, resume=False, retina_masks=False, save=True, save_conf=False, save_crop=False, save_dir=runs\\classify\\train3, save_frames=False, save_json=False, save_period=-1, save_txt=False, scale=0.5, seed=0, shear=0.0, show=False, show_boxes=True, show_conf=True, show_labels=True, simplify=True, single_cls=False, source=None, split=val, stream_buffer=False, task=classify, time=None, tracker=botsort.yaml, translate=0.1, val=True, verbose=True, vid_stride=1, visualize=False, warmup_bias_lr=0.1, warmup_epochs=3.0, warmup_momentum=0.8, weight_decay=0.0005, workers=8, workspace=None\n",
      "\u001B[34m\u001B[1mtrain:\u001B[0m C:\\Users\\ok__\\PycharmProjects\\MLSecOps\\datasets\\svhn_cls\\train... found 73257 images in 10 classes  \n",
      "\u001B[34m\u001B[1mval:\u001B[0m None...\n",
      "\u001B[34m\u001B[1mtest:\u001B[0m C:\\Users\\ok__\\PycharmProjects\\MLSecOps\\datasets\\svhn_cls\\test... found 26032 images in 10 classes  \n",
      "\n",
      "                   from  n    params  module                                       arguments                     \n",
      "  0                  -1  1       928  ultralytics.nn.modules.conv.Conv             [3, 32, 3, 2]                 \n",
      "  1                  -1  1     18560  ultralytics.nn.modules.conv.Conv             [32, 64, 3, 2]                \n",
      "  2                  -1  1     29056  ultralytics.nn.modules.block.C2f             [64, 64, 1, True]             \n",
      "  3                  -1  1     73984  ultralytics.nn.modules.conv.Conv             [64, 128, 3, 2]               \n",
      "  4                  -1  2    197632  ultralytics.nn.modules.block.C2f             [128, 128, 2, True]           \n",
      "  5                  -1  1    295424  ultralytics.nn.modules.conv.Conv             [128, 256, 3, 2]              \n",
      "  6                  -1  2    788480  ultralytics.nn.modules.block.C2f             [256, 256, 2, True]           \n",
      "  7                  -1  1   1180672  ultralytics.nn.modules.conv.Conv             [256, 512, 3, 2]              \n",
      "  8                  -1  1   1838080  ultralytics.nn.modules.block.C2f             [512, 512, 1, True]           \n",
      "  9                  -1  1    670730  ultralytics.nn.modules.head.Classify         [512, 10]                     \n",
      "YOLOv8s-cls summary: 56 layers, 5,093,546 parameters, 5,093,546 gradients, 12.6 GFLOPs\n",
      "Transferred 158/158 items from pretrained weights\n",
      "\u001B[34m\u001B[1mAMP: \u001B[0mrunning Automatic Mixed Precision (AMP) checks...\n",
      "\u001B[34m\u001B[1mAMP: \u001B[0mchecks passed \n",
      "\u001B[34m\u001B[1mtrain: \u001B[0mFast image access  (ping: 0.20.1 ms, read: 6.91.9 MB/s, size: 1.7 KB)\n"
     ]
    },
    {
     "name": "stderr",
     "output_type": "stream",
     "text": [
      "\u001B[34m\u001B[1mtrain: \u001B[0mScanning C:\\Users\\ok__\\PycharmProjects\\MLSecOps\\datasets\\svhn_cls\\train... 73257 images, 0 corrupt: 100%|██████████| 73257/73257 [00:00<?, ?it/s]\n"
     ]
    },
    {
     "name": "stdout",
     "output_type": "stream",
     "text": [
      "\u001B[34m\u001B[1mval: \u001B[0mFast image access  (ping: 0.20.0 ms, read: 5.31.1 MB/s, size: 1.7 KB)\n"
     ]
    },
    {
     "name": "stderr",
     "output_type": "stream",
     "text": [
      "\u001B[34m\u001B[1mval: \u001B[0mScanning C:\\Users\\ok__\\PycharmProjects\\MLSecOps\\datasets\\svhn_cls\\test... 26032 images, 0 corrupt: 100%|██████████| 26032/26032 [00:00<?, ?it/s]\n"
     ]
    },
    {
     "name": "stdout",
     "output_type": "stream",
     "text": [
      "\u001B[34m\u001B[1moptimizer:\u001B[0m 'optimizer=auto' found, ignoring 'lr0=0.01' and 'momentum=0.937' and determining best 'optimizer', 'lr0' and 'momentum' automatically... \n",
      "\u001B[34m\u001B[1moptimizer:\u001B[0m SGD(lr=0.01, momentum=0.9) with parameter groups 26 weight(decay=0.0), 27 weight(decay=0.001), 27 bias(decay=0.0)\n",
      "Image sizes 224 train, 224 val\n",
      "Using 8 dataloader workers\n",
      "Logging results to \u001B[1mruns\\classify\\train3\u001B[0m\n",
      "Starting training for 50 epochs...\n",
      "\n",
      "      Epoch    GPU_mem       loss  Instances       Size\n"
     ]
    },
    {
     "name": "stderr",
     "output_type": "stream",
     "text": [
      "       1/50      4.45G      1.965         41        224: 100%|██████████| 573/573 [01:11<00:00,  7.98it/s]\n",
      "               classes   top1_acc   top5_acc: 100%|██████████| 102/102 [00:11<00:00,  8.83it/s]\n"
     ]
    },
    {
     "name": "stdout",
     "output_type": "stream",
     "text": [
      "                   all      0.616      0.947\n",
      "\n",
      "      Epoch    GPU_mem       loss  Instances       Size\n"
     ]
    },
    {
     "name": "stderr",
     "output_type": "stream",
     "text": [
      "       2/50      2.48G     0.9635         41        224: 100%|██████████| 573/573 [01:09<00:00,  8.20it/s]\n",
      "               classes   top1_acc   top5_acc: 100%|██████████| 102/102 [00:11<00:00,  9.03it/s]"
     ]
    },
    {
     "name": "stdout",
     "output_type": "stream",
     "text": [
      "                   all      0.847      0.987\n"
     ]
    },
    {
     "name": "stderr",
     "output_type": "stream",
     "text": [
      "\n"
     ]
    },
    {
     "name": "stdout",
     "output_type": "stream",
     "text": [
      "\n",
      "      Epoch    GPU_mem       loss  Instances       Size\n"
     ]
    },
    {
     "name": "stderr",
     "output_type": "stream",
     "text": [
      "       3/50      2.48G     0.6187         41        224: 100%|██████████| 573/573 [01:08<00:00,  8.38it/s]\n",
      "               classes   top1_acc   top5_acc: 100%|██████████| 102/102 [00:13<00:00,  7.60it/s]"
     ]
    },
    {
     "name": "stdout",
     "output_type": "stream",
     "text": [
      "                   all      0.867      0.988\n"
     ]
    },
    {
     "name": "stderr",
     "output_type": "stream",
     "text": [
      "\n"
     ]
    },
    {
     "name": "stdout",
     "output_type": "stream",
     "text": [
      "\n",
      "      Epoch    GPU_mem       loss  Instances       Size\n"
     ]
    },
    {
     "name": "stderr",
     "output_type": "stream",
     "text": [
      "       4/50      2.48G     0.4922         41        224: 100%|██████████| 573/573 [01:09<00:00,  8.21it/s]\n",
      "               classes   top1_acc   top5_acc: 100%|██████████| 102/102 [00:10<00:00,  9.47it/s]"
     ]
    },
    {
     "name": "stdout",
     "output_type": "stream",
     "text": [
      "                   all       0.91      0.994\n"
     ]
    },
    {
     "name": "stderr",
     "output_type": "stream",
     "text": [
      "\n"
     ]
    },
    {
     "name": "stdout",
     "output_type": "stream",
     "text": [
      "\n",
      "      Epoch    GPU_mem       loss  Instances       Size\n"
     ]
    },
    {
     "name": "stderr",
     "output_type": "stream",
     "text": [
      "       5/50      2.48G      0.432         41        224: 100%|██████████| 573/573 [01:06<00:00,  8.64it/s]\n",
      "               classes   top1_acc   top5_acc: 100%|██████████| 102/102 [00:11<00:00,  9.09it/s]"
     ]
    },
    {
     "name": "stdout",
     "output_type": "stream",
     "text": [
      "                   all      0.926      0.994\n"
     ]
    },
    {
     "name": "stderr",
     "output_type": "stream",
     "text": [
      "\n"
     ]
    },
    {
     "name": "stdout",
     "output_type": "stream",
     "text": [
      "\n",
      "      Epoch    GPU_mem       loss  Instances       Size\n"
     ]
    },
    {
     "name": "stderr",
     "output_type": "stream",
     "text": [
      "       6/50      2.48G     0.3995         41        224: 100%|██████████| 573/573 [01:00<00:00,  9.48it/s]\n",
      "               classes   top1_acc   top5_acc: 100%|██████████| 102/102 [00:10<00:00,  9.34it/s]"
     ]
    },
    {
     "name": "stdout",
     "output_type": "stream",
     "text": [
      "                   all      0.926      0.994\n"
     ]
    },
    {
     "name": "stderr",
     "output_type": "stream",
     "text": [
      "\n"
     ]
    },
    {
     "name": "stdout",
     "output_type": "stream",
     "text": [
      "\n",
      "      Epoch    GPU_mem       loss  Instances       Size\n"
     ]
    },
    {
     "name": "stderr",
     "output_type": "stream",
     "text": [
      "       7/50      2.48G     0.3792         41        224: 100%|██████████| 573/573 [00:54<00:00, 10.54it/s]\n",
      "               classes   top1_acc   top5_acc: 100%|██████████| 102/102 [00:10<00:00, 10.13it/s]"
     ]
    },
    {
     "name": "stdout",
     "output_type": "stream",
     "text": [
      "                   all      0.936      0.995\n"
     ]
    },
    {
     "name": "stderr",
     "output_type": "stream",
     "text": [
      "\n"
     ]
    },
    {
     "name": "stdout",
     "output_type": "stream",
     "text": [
      "\n",
      "      Epoch    GPU_mem       loss  Instances       Size\n"
     ]
    },
    {
     "name": "stderr",
     "output_type": "stream",
     "text": [
      "       8/50      2.48G     0.3572         41        224: 100%|██████████| 573/573 [00:54<00:00, 10.55it/s]\n",
      "               classes   top1_acc   top5_acc: 100%|██████████| 102/102 [00:10<00:00, 10.14it/s]"
     ]
    },
    {
     "name": "stdout",
     "output_type": "stream",
     "text": [
      "                   all      0.946      0.996\n"
     ]
    },
    {
     "name": "stderr",
     "output_type": "stream",
     "text": [
      "\n"
     ]
    },
    {
     "name": "stdout",
     "output_type": "stream",
     "text": [
      "\n",
      "      Epoch    GPU_mem       loss  Instances       Size\n"
     ]
    },
    {
     "name": "stderr",
     "output_type": "stream",
     "text": [
      "       9/50      2.48G     0.3451         41        224: 100%|██████████| 573/573 [00:54<00:00, 10.52it/s]\n",
      "               classes   top1_acc   top5_acc: 100%|██████████| 102/102 [00:10<00:00,  9.98it/s]"
     ]
    },
    {
     "name": "stdout",
     "output_type": "stream",
     "text": [
      "                   all      0.946      0.996\n"
     ]
    },
    {
     "name": "stderr",
     "output_type": "stream",
     "text": [
      "\n"
     ]
    },
    {
     "name": "stdout",
     "output_type": "stream",
     "text": [
      "\n",
      "      Epoch    GPU_mem       loss  Instances       Size\n"
     ]
    },
    {
     "name": "stderr",
     "output_type": "stream",
     "text": [
      "      10/50      2.48G     0.3394         41        224: 100%|██████████| 573/573 [00:53<00:00, 10.63it/s]\n",
      "               classes   top1_acc   top5_acc: 100%|██████████| 102/102 [00:09<00:00, 10.41it/s]"
     ]
    },
    {
     "name": "stdout",
     "output_type": "stream",
     "text": [
      "                   all      0.948      0.996\n"
     ]
    },
    {
     "name": "stderr",
     "output_type": "stream",
     "text": [
      "\n"
     ]
    },
    {
     "name": "stdout",
     "output_type": "stream",
     "text": [
      "\n",
      "      Epoch    GPU_mem       loss  Instances       Size\n"
     ]
    },
    {
     "name": "stderr",
     "output_type": "stream",
     "text": [
      "      11/50      2.48G     0.3262         41        224: 100%|██████████| 573/573 [00:53<00:00, 10.62it/s]\n",
      "               classes   top1_acc   top5_acc: 100%|██████████| 102/102 [00:10<00:00, 10.09it/s]\n"
     ]
    },
    {
     "name": "stdout",
     "output_type": "stream",
     "text": [
      "                   all      0.947      0.996\n",
      "\n",
      "      Epoch    GPU_mem       loss  Instances       Size\n"
     ]
    },
    {
     "name": "stderr",
     "output_type": "stream",
     "text": [
      "      12/50      2.48G     0.3237         41        224: 100%|██████████| 573/573 [00:53<00:00, 10.63it/s]\n",
      "               classes   top1_acc   top5_acc: 100%|██████████| 102/102 [00:10<00:00, 10.18it/s]"
     ]
    },
    {
     "name": "stdout",
     "output_type": "stream",
     "text": [
      "                   all      0.952      0.996\n"
     ]
    },
    {
     "name": "stderr",
     "output_type": "stream",
     "text": [
      "\n"
     ]
    },
    {
     "name": "stdout",
     "output_type": "stream",
     "text": [
      "\n",
      "      Epoch    GPU_mem       loss  Instances       Size\n"
     ]
    },
    {
     "name": "stderr",
     "output_type": "stream",
     "text": [
      "      13/50      2.48G     0.3162         41        224: 100%|██████████| 573/573 [00:53<00:00, 10.67it/s]\n",
      "               classes   top1_acc   top5_acc: 100%|██████████| 102/102 [00:09<00:00, 10.25it/s]\n"
     ]
    },
    {
     "name": "stdout",
     "output_type": "stream",
     "text": [
      "                   all      0.953      0.996\n",
      "\n",
      "      Epoch    GPU_mem       loss  Instances       Size\n"
     ]
    },
    {
     "name": "stderr",
     "output_type": "stream",
     "text": [
      "      14/50      2.48G     0.3109         41        224: 100%|██████████| 573/573 [00:53<00:00, 10.65it/s]\n",
      "               classes   top1_acc   top5_acc: 100%|██████████| 102/102 [00:09<00:00, 10.32it/s]"
     ]
    },
    {
     "name": "stdout",
     "output_type": "stream",
     "text": [
      "                   all      0.956      0.996\n"
     ]
    },
    {
     "name": "stderr",
     "output_type": "stream",
     "text": [
      "\n"
     ]
    },
    {
     "name": "stdout",
     "output_type": "stream",
     "text": [
      "\n",
      "      Epoch    GPU_mem       loss  Instances       Size\n"
     ]
    },
    {
     "name": "stderr",
     "output_type": "stream",
     "text": [
      "      15/50      2.48G     0.3097         41        224: 100%|██████████| 573/573 [00:53<00:00, 10.64it/s]\n",
      "               classes   top1_acc   top5_acc: 100%|██████████| 102/102 [00:10<00:00, 10.06it/s]"
     ]
    },
    {
     "name": "stdout",
     "output_type": "stream",
     "text": [
      "                   all      0.956      0.996\n"
     ]
    },
    {
     "name": "stderr",
     "output_type": "stream",
     "text": [
      "\n"
     ]
    },
    {
     "name": "stdout",
     "output_type": "stream",
     "text": [
      "\n",
      "      Epoch    GPU_mem       loss  Instances       Size\n"
     ]
    },
    {
     "name": "stderr",
     "output_type": "stream",
     "text": [
      "      16/50      2.48G     0.3037         41        224: 100%|██████████| 573/573 [00:54<00:00, 10.59it/s]\n",
      "               classes   top1_acc   top5_acc: 100%|██████████| 102/102 [00:09<00:00, 10.24it/s]"
     ]
    },
    {
     "name": "stdout",
     "output_type": "stream",
     "text": [
      "                   all      0.958      0.996\n"
     ]
    },
    {
     "name": "stderr",
     "output_type": "stream",
     "text": [
      "\n"
     ]
    },
    {
     "name": "stdout",
     "output_type": "stream",
     "text": [
      "\n",
      "      Epoch    GPU_mem       loss  Instances       Size\n"
     ]
    },
    {
     "name": "stderr",
     "output_type": "stream",
     "text": [
      "      17/50      2.48G      0.303         41        224: 100%|██████████| 573/573 [00:53<00:00, 10.70it/s]\n",
      "               classes   top1_acc   top5_acc: 100%|██████████| 102/102 [00:09<00:00, 10.34it/s]"
     ]
    },
    {
     "name": "stdout",
     "output_type": "stream",
     "text": [
      "                   all      0.961      0.996\n"
     ]
    },
    {
     "name": "stderr",
     "output_type": "stream",
     "text": [
      "\n"
     ]
    },
    {
     "name": "stdout",
     "output_type": "stream",
     "text": [
      "\n",
      "      Epoch    GPU_mem       loss  Instances       Size\n"
     ]
    },
    {
     "name": "stderr",
     "output_type": "stream",
     "text": [
      "      18/50      2.48G     0.2972         41        224: 100%|██████████| 573/573 [00:54<00:00, 10.53it/s]\n",
      "               classes   top1_acc   top5_acc: 100%|██████████| 102/102 [00:09<00:00, 10.37it/s]"
     ]
    },
    {
     "name": "stdout",
     "output_type": "stream",
     "text": [
      "                   all      0.963      0.997\n"
     ]
    },
    {
     "name": "stderr",
     "output_type": "stream",
     "text": [
      "\n"
     ]
    },
    {
     "name": "stdout",
     "output_type": "stream",
     "text": [
      "\n",
      "      Epoch    GPU_mem       loss  Instances       Size\n"
     ]
    },
    {
     "name": "stderr",
     "output_type": "stream",
     "text": [
      "      19/50      2.48G     0.2973         41        224: 100%|██████████| 573/573 [00:53<00:00, 10.64it/s]\n",
      "               classes   top1_acc   top5_acc: 100%|██████████| 102/102 [00:09<00:00, 10.22it/s]"
     ]
    },
    {
     "name": "stdout",
     "output_type": "stream",
     "text": [
      "                   all      0.961      0.996\n"
     ]
    },
    {
     "name": "stderr",
     "output_type": "stream",
     "text": [
      "\n"
     ]
    },
    {
     "name": "stdout",
     "output_type": "stream",
     "text": [
      "\n",
      "      Epoch    GPU_mem       loss  Instances       Size\n"
     ]
    },
    {
     "name": "stderr",
     "output_type": "stream",
     "text": [
      "      20/50      2.48G     0.2871         41        224: 100%|██████████| 573/573 [00:53<00:00, 10.64it/s]\n",
      "               classes   top1_acc   top5_acc: 100%|██████████| 102/102 [00:09<00:00, 10.33it/s]"
     ]
    },
    {
     "name": "stdout",
     "output_type": "stream",
     "text": [
      "                   all      0.961      0.996\n"
     ]
    },
    {
     "name": "stderr",
     "output_type": "stream",
     "text": [
      "\n"
     ]
    },
    {
     "name": "stdout",
     "output_type": "stream",
     "text": [
      "\n",
      "      Epoch    GPU_mem       loss  Instances       Size\n"
     ]
    },
    {
     "name": "stderr",
     "output_type": "stream",
     "text": [
      "      21/50      2.48G     0.2879         41        224: 100%|██████████| 573/573 [00:53<00:00, 10.61it/s]\n",
      "               classes   top1_acc   top5_acc: 100%|██████████| 102/102 [00:10<00:00, 10.17it/s]"
     ]
    },
    {
     "name": "stdout",
     "output_type": "stream",
     "text": [
      "                   all      0.962      0.997\n"
     ]
    },
    {
     "name": "stderr",
     "output_type": "stream",
     "text": [
      "\n"
     ]
    },
    {
     "name": "stdout",
     "output_type": "stream",
     "text": [
      "\n",
      "      Epoch    GPU_mem       loss  Instances       Size\n"
     ]
    },
    {
     "name": "stderr",
     "output_type": "stream",
     "text": [
      "      22/50      2.48G     0.2859         41        224: 100%|██████████| 573/573 [00:53<00:00, 10.73it/s]\n",
      "               classes   top1_acc   top5_acc: 100%|██████████| 102/102 [00:09<00:00, 10.33it/s]"
     ]
    },
    {
     "name": "stdout",
     "output_type": "stream",
     "text": [
      "                   all      0.963      0.997\n"
     ]
    },
    {
     "name": "stderr",
     "output_type": "stream",
     "text": [
      "\n"
     ]
    },
    {
     "name": "stdout",
     "output_type": "stream",
     "text": [
      "\n",
      "      Epoch    GPU_mem       loss  Instances       Size\n"
     ]
    },
    {
     "name": "stderr",
     "output_type": "stream",
     "text": [
      "      23/50      2.48G     0.2808         41        224: 100%|██████████| 573/573 [00:53<00:00, 10.67it/s]\n",
      "               classes   top1_acc   top5_acc: 100%|██████████| 102/102 [00:09<00:00, 10.27it/s]\n"
     ]
    },
    {
     "name": "stdout",
     "output_type": "stream",
     "text": [
      "                   all      0.963      0.997\n",
      "\n",
      "      Epoch    GPU_mem       loss  Instances       Size\n"
     ]
    },
    {
     "name": "stderr",
     "output_type": "stream",
     "text": [
      "      24/50      2.48G     0.2826         41        224: 100%|██████████| 573/573 [00:53<00:00, 10.66it/s]\n",
      "               classes   top1_acc   top5_acc: 100%|██████████| 102/102 [00:09<00:00, 10.35it/s]"
     ]
    },
    {
     "name": "stdout",
     "output_type": "stream",
     "text": [
      "                   all      0.965      0.997\n"
     ]
    },
    {
     "name": "stderr",
     "output_type": "stream",
     "text": [
      "\n"
     ]
    },
    {
     "name": "stdout",
     "output_type": "stream",
     "text": [
      "\n",
      "      Epoch    GPU_mem       loss  Instances       Size\n"
     ]
    },
    {
     "name": "stderr",
     "output_type": "stream",
     "text": [
      "      25/50      2.48G     0.2698         41        224: 100%|██████████| 573/573 [00:53<00:00, 10.64it/s]\n",
      "               classes   top1_acc   top5_acc: 100%|██████████| 102/102 [00:09<00:00, 10.24it/s]"
     ]
    },
    {
     "name": "stdout",
     "output_type": "stream",
     "text": [
      "                   all      0.965      0.997\n"
     ]
    },
    {
     "name": "stderr",
     "output_type": "stream",
     "text": [
      "\n"
     ]
    },
    {
     "name": "stdout",
     "output_type": "stream",
     "text": [
      "\n",
      "      Epoch    GPU_mem       loss  Instances       Size\n"
     ]
    },
    {
     "name": "stderr",
     "output_type": "stream",
     "text": [
      "      26/50      2.48G     0.2742         41        224: 100%|██████████| 573/573 [00:53<00:00, 10.62it/s]\n",
      "               classes   top1_acc   top5_acc: 100%|██████████| 102/102 [00:10<00:00, 10.14it/s]"
     ]
    },
    {
     "name": "stdout",
     "output_type": "stream",
     "text": [
      "                   all      0.967      0.997\n"
     ]
    },
    {
     "name": "stderr",
     "output_type": "stream",
     "text": [
      "\n"
     ]
    },
    {
     "name": "stdout",
     "output_type": "stream",
     "text": [
      "\n",
      "      Epoch    GPU_mem       loss  Instances       Size\n"
     ]
    },
    {
     "name": "stderr",
     "output_type": "stream",
     "text": [
      "      27/50      2.48G     0.2684         41        224: 100%|██████████| 573/573 [00:53<00:00, 10.63it/s]\n",
      "               classes   top1_acc   top5_acc: 100%|██████████| 102/102 [00:10<00:00, 10.17it/s]"
     ]
    },
    {
     "name": "stdout",
     "output_type": "stream",
     "text": [
      "                   all      0.967      0.996\n"
     ]
    },
    {
     "name": "stderr",
     "output_type": "stream",
     "text": [
      "\n"
     ]
    },
    {
     "name": "stdout",
     "output_type": "stream",
     "text": [
      "\n",
      "      Epoch    GPU_mem       loss  Instances       Size\n"
     ]
    },
    {
     "name": "stderr",
     "output_type": "stream",
     "text": [
      "      28/50      2.48G     0.2631         41        224: 100%|██████████| 573/573 [00:54<00:00, 10.60it/s]\n",
      "               classes   top1_acc   top5_acc: 100%|██████████| 102/102 [00:09<00:00, 10.26it/s]"
     ]
    },
    {
     "name": "stdout",
     "output_type": "stream",
     "text": [
      "                   all      0.968      0.997\n"
     ]
    },
    {
     "name": "stderr",
     "output_type": "stream",
     "text": [
      "\n"
     ]
    },
    {
     "name": "stdout",
     "output_type": "stream",
     "text": [
      "\n",
      "      Epoch    GPU_mem       loss  Instances       Size\n"
     ]
    },
    {
     "name": "stderr",
     "output_type": "stream",
     "text": [
      "      29/50      2.48G     0.2594         41        224: 100%|██████████| 573/573 [00:53<00:00, 10.61it/s]\n",
      "               classes   top1_acc   top5_acc: 100%|██████████| 102/102 [00:09<00:00, 10.25it/s]\n"
     ]
    },
    {
     "name": "stdout",
     "output_type": "stream",
     "text": [
      "                   all      0.968      0.997\n",
      "\n",
      "      Epoch    GPU_mem       loss  Instances       Size\n"
     ]
    },
    {
     "name": "stderr",
     "output_type": "stream",
     "text": [
      "      30/50      2.48G     0.2514         41        224: 100%|██████████| 573/573 [00:53<00:00, 10.63it/s]\n",
      "               classes   top1_acc   top5_acc: 100%|██████████| 102/102 [00:10<00:00, 10.01it/s]"
     ]
    },
    {
     "name": "stdout",
     "output_type": "stream",
     "text": [
      "                   all      0.968      0.997\n"
     ]
    },
    {
     "name": "stderr",
     "output_type": "stream",
     "text": [
      "\n"
     ]
    },
    {
     "name": "stdout",
     "output_type": "stream",
     "text": [
      "\n",
      "      Epoch    GPU_mem       loss  Instances       Size\n"
     ]
    },
    {
     "name": "stderr",
     "output_type": "stream",
     "text": [
      "      31/50      2.48G     0.2512         41        224: 100%|██████████| 573/573 [00:53<00:00, 10.62it/s]\n",
      "               classes   top1_acc   top5_acc: 100%|██████████| 102/102 [00:10<00:00, 10.06it/s]"
     ]
    },
    {
     "name": "stdout",
     "output_type": "stream",
     "text": [
      "                   all      0.968      0.997\n"
     ]
    },
    {
     "name": "stderr",
     "output_type": "stream",
     "text": [
      "\n"
     ]
    },
    {
     "name": "stdout",
     "output_type": "stream",
     "text": [
      "\n",
      "      Epoch    GPU_mem       loss  Instances       Size\n"
     ]
    },
    {
     "name": "stderr",
     "output_type": "stream",
     "text": [
      "      32/50      2.48G     0.2445         41        224: 100%|██████████| 573/573 [00:53<00:00, 10.61it/s]\n",
      "               classes   top1_acc   top5_acc: 100%|██████████| 102/102 [00:09<00:00, 10.44it/s]"
     ]
    },
    {
     "name": "stdout",
     "output_type": "stream",
     "text": [
      "                   all      0.968      0.997\n"
     ]
    },
    {
     "name": "stderr",
     "output_type": "stream",
     "text": [
      "\n"
     ]
    },
    {
     "name": "stdout",
     "output_type": "stream",
     "text": [
      "\n",
      "      Epoch    GPU_mem       loss  Instances       Size\n"
     ]
    },
    {
     "name": "stderr",
     "output_type": "stream",
     "text": [
      "      33/50      2.48G     0.2406         41        224: 100%|██████████| 573/573 [00:55<00:00, 10.40it/s]\n",
      "               classes   top1_acc   top5_acc: 100%|██████████| 102/102 [00:09<00:00, 10.40it/s]"
     ]
    },
    {
     "name": "stdout",
     "output_type": "stream",
     "text": [
      "                   all      0.969      0.997\n"
     ]
    },
    {
     "name": "stderr",
     "output_type": "stream",
     "text": [
      "\n"
     ]
    },
    {
     "name": "stdout",
     "output_type": "stream",
     "text": [
      "\n",
      "      Epoch    GPU_mem       loss  Instances       Size\n"
     ]
    },
    {
     "name": "stderr",
     "output_type": "stream",
     "text": [
      "      34/50      2.48G     0.2378         41        224: 100%|██████████| 573/573 [00:54<00:00, 10.56it/s]\n",
      "               classes   top1_acc   top5_acc: 100%|██████████| 102/102 [00:09<00:00, 10.51it/s]"
     ]
    },
    {
     "name": "stdout",
     "output_type": "stream",
     "text": [
      "                   all      0.969      0.997\n"
     ]
    },
    {
     "name": "stderr",
     "output_type": "stream",
     "text": [
      "\n"
     ]
    },
    {
     "name": "stdout",
     "output_type": "stream",
     "text": [
      "\n",
      "      Epoch    GPU_mem       loss  Instances       Size\n"
     ]
    },
    {
     "name": "stderr",
     "output_type": "stream",
     "text": [
      "      35/50      2.48G     0.2298         41        224: 100%|██████████| 573/573 [00:53<00:00, 10.68it/s]\n",
      "               classes   top1_acc   top5_acc: 100%|██████████| 102/102 [00:09<00:00, 10.36it/s]"
     ]
    },
    {
     "name": "stdout",
     "output_type": "stream",
     "text": [
      "                   all      0.969      0.997\n"
     ]
    },
    {
     "name": "stderr",
     "output_type": "stream",
     "text": [
      "\n"
     ]
    },
    {
     "name": "stdout",
     "output_type": "stream",
     "text": [
      "\n",
      "      Epoch    GPU_mem       loss  Instances       Size\n"
     ]
    },
    {
     "name": "stderr",
     "output_type": "stream",
     "text": [
      "      36/50      2.48G     0.2248         41        224: 100%|██████████| 573/573 [00:54<00:00, 10.54it/s]\n",
      "               classes   top1_acc   top5_acc: 100%|██████████| 102/102 [00:09<00:00, 10.42it/s]"
     ]
    },
    {
     "name": "stdout",
     "output_type": "stream",
     "text": [
      "                   all      0.969      0.997\n"
     ]
    },
    {
     "name": "stderr",
     "output_type": "stream",
     "text": [
      "\n"
     ]
    },
    {
     "name": "stdout",
     "output_type": "stream",
     "text": [
      "\n",
      "      Epoch    GPU_mem       loss  Instances       Size\n"
     ]
    },
    {
     "name": "stderr",
     "output_type": "stream",
     "text": [
      "      37/50      2.48G     0.2164         41        224: 100%|██████████| 573/573 [00:54<00:00, 10.56it/s]\n",
      "               classes   top1_acc   top5_acc: 100%|██████████| 102/102 [00:09<00:00, 10.23it/s]"
     ]
    },
    {
     "name": "stdout",
     "output_type": "stream",
     "text": [
      "                   all      0.969      0.997\n"
     ]
    },
    {
     "name": "stderr",
     "output_type": "stream",
     "text": [
      "\n"
     ]
    },
    {
     "name": "stdout",
     "output_type": "stream",
     "text": [
      "\n",
      "      Epoch    GPU_mem       loss  Instances       Size\n"
     ]
    },
    {
     "name": "stderr",
     "output_type": "stream",
     "text": [
      "      38/50      2.48G     0.2166         41        224: 100%|██████████| 573/573 [00:54<00:00, 10.59it/s]\n",
      "               classes   top1_acc   top5_acc: 100%|██████████| 102/102 [00:10<00:00, 10.08it/s]"
     ]
    },
    {
     "name": "stdout",
     "output_type": "stream",
     "text": [
      "                   all      0.969      0.997\n"
     ]
    },
    {
     "name": "stderr",
     "output_type": "stream",
     "text": [
      "\n"
     ]
    },
    {
     "name": "stdout",
     "output_type": "stream",
     "text": [
      "\n",
      "      Epoch    GPU_mem       loss  Instances       Size\n"
     ]
    },
    {
     "name": "stderr",
     "output_type": "stream",
     "text": [
      "      39/50      2.48G     0.2058         41        224: 100%|██████████| 573/573 [00:54<00:00, 10.59it/s]\n",
      "               classes   top1_acc   top5_acc: 100%|██████████| 102/102 [00:09<00:00, 10.31it/s]"
     ]
    },
    {
     "name": "stdout",
     "output_type": "stream",
     "text": [
      "                   all      0.969      0.997\n"
     ]
    },
    {
     "name": "stderr",
     "output_type": "stream",
     "text": [
      "\n"
     ]
    },
    {
     "name": "stdout",
     "output_type": "stream",
     "text": [
      "\n",
      "      Epoch    GPU_mem       loss  Instances       Size\n"
     ]
    },
    {
     "name": "stderr",
     "output_type": "stream",
     "text": [
      "      40/50      2.48G     0.2037         41        224: 100%|██████████| 573/573 [00:54<00:00, 10.54it/s]\n",
      "               classes   top1_acc   top5_acc: 100%|██████████| 102/102 [00:09<00:00, 10.20it/s]"
     ]
    },
    {
     "name": "stdout",
     "output_type": "stream",
     "text": [
      "                   all      0.969      0.997\n"
     ]
    },
    {
     "name": "stderr",
     "output_type": "stream",
     "text": [
      "\n"
     ]
    },
    {
     "name": "stdout",
     "output_type": "stream",
     "text": [
      "\n",
      "      Epoch    GPU_mem       loss  Instances       Size\n"
     ]
    },
    {
     "name": "stderr",
     "output_type": "stream",
     "text": [
      "      41/50      2.48G     0.1954         41        224: 100%|██████████| 573/573 [00:54<00:00, 10.51it/s]\n",
      "               classes   top1_acc   top5_acc: 100%|██████████| 102/102 [00:09<00:00, 10.21it/s]\n"
     ]
    },
    {
     "name": "stdout",
     "output_type": "stream",
     "text": [
      "                   all      0.969      0.997\n",
      "\n",
      "      Epoch    GPU_mem       loss  Instances       Size\n"
     ]
    },
    {
     "name": "stderr",
     "output_type": "stream",
     "text": [
      "      42/50      2.48G      0.187         41        224: 100%|██████████| 573/573 [00:54<00:00, 10.53it/s]\n",
      "               classes   top1_acc   top5_acc: 100%|██████████| 102/102 [00:10<00:00,  9.92it/s]"
     ]
    },
    {
     "name": "stdout",
     "output_type": "stream",
     "text": [
      "                   all      0.969      0.997\n"
     ]
    },
    {
     "name": "stderr",
     "output_type": "stream",
     "text": [
      "\n"
     ]
    },
    {
     "name": "stdout",
     "output_type": "stream",
     "text": [
      "\n",
      "      Epoch    GPU_mem       loss  Instances       Size\n"
     ]
    },
    {
     "name": "stderr",
     "output_type": "stream",
     "text": [
      "      43/50      2.48G     0.1795         41        224: 100%|██████████| 573/573 [00:54<00:00, 10.49it/s]\n",
      "               classes   top1_acc   top5_acc: 100%|██████████| 102/102 [00:10<00:00,  9.93it/s]"
     ]
    },
    {
     "name": "stdout",
     "output_type": "stream",
     "text": [
      "                   all      0.969      0.997\n"
     ]
    },
    {
     "name": "stderr",
     "output_type": "stream",
     "text": [
      "\n"
     ]
    },
    {
     "name": "stdout",
     "output_type": "stream",
     "text": [
      "\n",
      "      Epoch    GPU_mem       loss  Instances       Size\n"
     ]
    },
    {
     "name": "stderr",
     "output_type": "stream",
     "text": [
      "      44/50      2.48G     0.1722         41        224: 100%|██████████| 573/573 [00:54<00:00, 10.51it/s]\n",
      "               classes   top1_acc   top5_acc: 100%|██████████| 102/102 [00:10<00:00,  9.95it/s]"
     ]
    },
    {
     "name": "stdout",
     "output_type": "stream",
     "text": [
      "                   all      0.969      0.997\n"
     ]
    },
    {
     "name": "stderr",
     "output_type": "stream",
     "text": [
      "\n"
     ]
    },
    {
     "name": "stdout",
     "output_type": "stream",
     "text": [
      "\n",
      "      Epoch    GPU_mem       loss  Instances       Size\n"
     ]
    },
    {
     "name": "stderr",
     "output_type": "stream",
     "text": [
      "      45/50      2.48G     0.1664         41        224: 100%|██████████| 573/573 [00:54<00:00, 10.52it/s]\n",
      "               classes   top1_acc   top5_acc: 100%|██████████| 102/102 [00:10<00:00,  9.77it/s]"
     ]
    },
    {
     "name": "stdout",
     "output_type": "stream",
     "text": [
      "                   all      0.969      0.997\n"
     ]
    },
    {
     "name": "stderr",
     "output_type": "stream",
     "text": [
      "\n"
     ]
    },
    {
     "name": "stdout",
     "output_type": "stream",
     "text": [
      "\n",
      "      Epoch    GPU_mem       loss  Instances       Size\n"
     ]
    },
    {
     "name": "stderr",
     "output_type": "stream",
     "text": [
      "      46/50      2.48G     0.1535         41        224: 100%|██████████| 573/573 [00:54<00:00, 10.46it/s]\n",
      "               classes   top1_acc   top5_acc: 100%|██████████| 102/102 [00:09<00:00, 10.42it/s]"
     ]
    },
    {
     "name": "stdout",
     "output_type": "stream",
     "text": [
      "                   all      0.969      0.997\n"
     ]
    },
    {
     "name": "stderr",
     "output_type": "stream",
     "text": [
      "\n"
     ]
    },
    {
     "name": "stdout",
     "output_type": "stream",
     "text": [
      "\n",
      "      Epoch    GPU_mem       loss  Instances       Size\n"
     ]
    },
    {
     "name": "stderr",
     "output_type": "stream",
     "text": [
      "      47/50      2.48G     0.1461         41        224: 100%|██████████| 573/573 [00:54<00:00, 10.56it/s]\n",
      "               classes   top1_acc   top5_acc: 100%|██████████| 102/102 [00:09<00:00, 10.39it/s]"
     ]
    },
    {
     "name": "stdout",
     "output_type": "stream",
     "text": [
      "                   all       0.97      0.997\n"
     ]
    },
    {
     "name": "stderr",
     "output_type": "stream",
     "text": [
      "\n"
     ]
    },
    {
     "name": "stdout",
     "output_type": "stream",
     "text": [
      "\n",
      "      Epoch    GPU_mem       loss  Instances       Size\n"
     ]
    },
    {
     "name": "stderr",
     "output_type": "stream",
     "text": [
      "      48/50      2.48G     0.1407         41        224: 100%|██████████| 573/573 [00:54<00:00, 10.56it/s]\n",
      "               classes   top1_acc   top5_acc: 100%|██████████| 102/102 [00:09<00:00, 10.47it/s]"
     ]
    },
    {
     "name": "stdout",
     "output_type": "stream",
     "text": [
      "                   all       0.97      0.997\n"
     ]
    },
    {
     "name": "stderr",
     "output_type": "stream",
     "text": [
      "\n"
     ]
    },
    {
     "name": "stdout",
     "output_type": "stream",
     "text": [
      "\n",
      "      Epoch    GPU_mem       loss  Instances       Size\n"
     ]
    },
    {
     "name": "stderr",
     "output_type": "stream",
     "text": [
      "      49/50      2.48G     0.1316         41        224: 100%|██████████| 573/573 [00:54<00:00, 10.52it/s]\n",
      "               classes   top1_acc   top5_acc: 100%|██████████| 102/102 [00:09<00:00, 10.34it/s]"
     ]
    },
    {
     "name": "stdout",
     "output_type": "stream",
     "text": [
      "                   all       0.97      0.997\n"
     ]
    },
    {
     "name": "stderr",
     "output_type": "stream",
     "text": [
      "\n"
     ]
    },
    {
     "name": "stdout",
     "output_type": "stream",
     "text": [
      "\n",
      "      Epoch    GPU_mem       loss  Instances       Size\n"
     ]
    },
    {
     "name": "stderr",
     "output_type": "stream",
     "text": [
      "      50/50      2.48G     0.1253         41        224: 100%|██████████| 573/573 [00:54<00:00, 10.53it/s]\n",
      "               classes   top1_acc   top5_acc: 100%|██████████| 102/102 [00:09<00:00, 10.24it/s]"
     ]
    },
    {
     "name": "stdout",
     "output_type": "stream",
     "text": [
      "                   all       0.97      0.997\n"
     ]
    },
    {
     "name": "stderr",
     "output_type": "stream",
     "text": [
      "\n"
     ]
    },
    {
     "name": "stdout",
     "output_type": "stream",
     "text": [
      "\n",
      "50 epochs completed in 0.927 hours.\n",
      "Optimizer stripped from runs\\classify\\train3\\weights\\last.pt, 10.3MB\n",
      "Optimizer stripped from runs\\classify\\train3\\weights\\best.pt, 10.3MB\n",
      "\n",
      "Validating runs\\classify\\train3\\weights\\best.pt...\n",
      "Ultralytics 8.3.153  Python-3.11.9 torch-2.1.2+cu121 CUDA:0 (NVIDIA GeForce RTX 4060 Ti, 8188MiB)\n",
      "YOLOv8s-cls summary (fused): 30 layers, 5,088,010 parameters, 0 gradients, 12.5 GFLOPs\n",
      "WARNING Dataset 'split=val' not found, using 'split=test' instead.\n",
      "\u001B[34m\u001B[1mtrain:\u001B[0m C:\\Users\\ok__\\PycharmProjects\\MLSecOps\\datasets\\svhn_cls\\train... found 73257 images in 10 classes  \n",
      "\u001B[34m\u001B[1mval:\u001B[0m C:\\Users\\ok__\\PycharmProjects\\MLSecOps\\datasets\\svhn_cls\\test... found 26032 images in 10 classes  \n",
      "\u001B[34m\u001B[1mtest:\u001B[0m C:\\Users\\ok__\\PycharmProjects\\MLSecOps\\datasets\\svhn_cls\\test... found 26032 images in 10 classes  \n"
     ]
    },
    {
     "name": "stderr",
     "output_type": "stream",
     "text": [
      "               classes   top1_acc   top5_acc: 100%|██████████| 102/102 [00:09<00:00, 10.24it/s]\n"
     ]
    },
    {
     "name": "stdout",
     "output_type": "stream",
     "text": [
      "                   all       0.97      0.997\n",
      "Speed: 0.1ms preprocess, 0.2ms inference, 0.0ms loss, 0.0ms postprocess per image\n",
      "Results saved to \u001B[1mruns\\classify\\train3\u001B[0m\n",
      "Ultralytics 8.3.153  Python-3.11.9 torch-2.1.2+cu121 CUDA:0 (NVIDIA GeForce RTX 4060 Ti, 8188MiB)\n",
      "YOLOv8s-cls summary (fused): 30 layers, 5,088,010 parameters, 0 gradients, 12.5 GFLOPs\n",
      "WARNING Dataset 'split=val' not found, using 'split=test' instead.\n",
      "\u001B[34m\u001B[1mtrain:\u001B[0m C:\\Users\\ok__\\PycharmProjects\\MLSecOps\\datasets\\svhn_cls\\train... found 73257 images in 10 classes  \n",
      "\u001B[34m\u001B[1mval:\u001B[0m C:\\Users\\ok__\\PycharmProjects\\MLSecOps\\datasets\\svhn_cls\\test... found 26032 images in 10 classes  \n",
      "\u001B[34m\u001B[1mtest:\u001B[0m C:\\Users\\ok__\\PycharmProjects\\MLSecOps\\datasets\\svhn_cls\\test... found 26032 images in 10 classes  \n",
      "\u001B[34m\u001B[1mval: \u001B[0mFast image access  (ping: 0.00.0 ms, read: 19.03.7 MB/s, size: 1.7 KB)\n"
     ]
    },
    {
     "name": "stderr",
     "output_type": "stream",
     "text": [
      "\u001B[34m\u001B[1mval: \u001B[0mScanning C:\\Users\\ok__\\PycharmProjects\\MLSecOps\\datasets\\svhn_cls\\test... 26032 images, 0 corrupt: 100%|██████████| 26032/26032 [00:00<?, ?it/s]\n",
      "               classes   top1_acc   top5_acc: 100%|██████████| 204/204 [00:12<00:00, 16.31it/s]\n"
     ]
    },
    {
     "name": "stdout",
     "output_type": "stream",
     "text": [
      "                   all       0.97      0.997\n",
      "Speed: 0.1ms preprocess, 0.3ms inference, 0.0ms loss, 0.0ms postprocess per image\n",
      "Results saved to \u001B[1mruns\\classify\\train32\u001B[0m\n"
     ]
    },
    {
     "data": {
      "text/plain": [
       "ultralytics.utils.metrics.ClassifyMetrics object with attributes:\n",
       "\n",
       "confusion_matrix: <ultralytics.utils.metrics.ConfusionMatrix object at 0x0000016839F93AD0>\n",
       "curves: []\n",
       "curves_results: []\n",
       "fitness: 0.9836931526660919\n",
       "keys: ['metrics/accuracy_top1', 'metrics/accuracy_top5']\n",
       "results_dict: {'metrics/accuracy_top1': 0.9702289700508118, 'metrics/accuracy_top5': 0.9971573352813721, 'fitness': 0.9836931526660919}\n",
       "save_dir: WindowsPath('runs/classify/train32')\n",
       "speed: {'preprocess': 0.05283406576525764, 'inference': 0.30222762753539256, 'loss': 8.201060240060639e-05, 'postprocess': 0.0003986708666821197}\n",
       "task: 'classify'\n",
       "top1: 0.9702289700508118\n",
       "top5: 0.9971573352813721"
      ]
     },
     "execution_count": 14,
     "metadata": {},
     "output_type": "execute_result"
    }
   ],
   "execution_count": 14
  },
  {
   "metadata": {},
   "cell_type": "markdown",
   "source": [
    "Отлично, модель обучилась и имеет долю правильных ответов 97%, при этом правильный ответ находится в топ 5 в 99,7% случаев\n",
    "Обученную модель можно скачать по [ссылке](https://disk.360.yandex.ru/d/r-5SqYBdwTfuuQ) (рекомендуется положить её в папку models)\n",
    "\n"
   ],
   "id": "455d8007a6c2d137"
  },
  {
   "metadata": {},
   "cell_type": "markdown",
   "source": [
    "## Проведение атаки\n",
    "\n",
    "Пусть наша [модель](https://disk.360.yandex.ru/d/r-5SqYBdwTfuuQ) находится в папке models. Считаем её"
   ],
   "id": "aaf8c7f3bf1d266d"
  },
  {
   "metadata": {},
   "cell_type": "code",
   "outputs": [],
   "execution_count": null,
   "source": [
    "from ultralytics import YOLO\n",
    "\n",
    "model = YOLO(\"yolov8s-cls.pt\")"
   ],
   "id": "e2fb25fab5b3e47c"
  }
 ],
 "metadata": {
  "kernelspec": {
   "display_name": "Python 3",
   "language": "python",
   "name": "python3"
  },
  "language_info": {
   "codemirror_mode": {
    "name": "ipython",
    "version": 2
   },
   "file_extension": ".py",
   "mimetype": "text/x-python",
   "name": "python",
   "nbconvert_exporter": "python",
   "pygments_lexer": "ipython2",
   "version": "2.7.6"
  }
 },
 "nbformat": 4,
 "nbformat_minor": 5
}
