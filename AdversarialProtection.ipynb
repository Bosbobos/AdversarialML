{
 "cells": [
  {
   "cell_type": "markdown",
   "id": "8cddf8587116c0f",
   "metadata": {},
   "source": [
    "# Защита модели от Adversarial примеров\n",
    "\n",
    "Работа выполнена студентом БИБ233 МИЭМ НИУ ВШЭ Коноваловым Матвеем.\n",
    "\n",
    "Данная работа является продолжением предыдущей, в которой рассматривалось создание Adversarial примеров в задаче классификации изображений.\n",
    "\n",
    "Атака оказалась крайне удачной, и в ходе данной работы будут рассмотрены способы это исправить.\n",
    "\n",
    "## Основные способы защиты, рассмотренные в работе:\n",
    "- Adversarial training\n",
    "- нормализация входных данных\n",
    "\n",
    "Все эти изменения будут вноситься при помощи библиотеки Adversarial Robustness Toolbox."
   ]
  },
  {
   "cell_type": "markdown",
   "id": "4b925fd6341e2c4e",
   "metadata": {},
   "source": [
    "## Подготовка\n",
    "Зададим все необходимые параметры. В MODEL_PATH укажите, куда вы положили [обученную модель из предыдущего пункта](https://disk.360.yandex.ru/d/r-5SqYBdwTfuuQ)"
   ]
  },
  {
   "cell_type": "code",
   "id": "initial_id",
   "metadata": {
    "collapsed": true,
    "jupyter": {
     "outputs_hidden": true
    },
    "ExecuteTime": {
     "end_time": "2025-06-15T20:58:01.646187Z",
     "start_time": "2025-06-15T20:58:01.640177Z"
    }
   },
   "source": [
    "import torch\n",
    "import numpy as np\n",
    "import random\n",
    "from pathlib import Path\n",
    "\n",
    "IMG_SIZE = 224\n",
    "MODEL_PATH = Path('models/best.pt')\n",
    "DATA_DIR = Path(\"datasets/svhn_cls\")\n",
    "mean = np.array([0.485, 0.456, 0.406], dtype=np.float32)\n",
    "std = np.array([0.229, 0.224, 0.225], dtype=np.float32)\n",
    "EPOCHS = 20\n",
    "LR = 1e-3\n",
    "WEIGHT_DECAY = 1e-4\n",
    "BATCH_SIZE = 128\n",
    "SHUFFLE_DS = True\n",
    "EPS = 8/255\n",
    "EPS_STEP = 2/255\n",
    "PGD_STEPS = 6\n",
    "SEED = 17\n",
    "random.seed(SEED); np.random.seed(SEED); torch.manual_seed(SEED)\n",
    "device = \"cuda\" if torch.cuda.is_available() else \"cpu\"\n",
    "device"
   ],
   "outputs": [
    {
     "data": {
      "text/plain": [
       "'cuda'"
      ]
     },
     "execution_count": 40,
     "metadata": {},
     "output_type": "execute_result"
    }
   ],
   "execution_count": 40
  },
  {
   "cell_type": "markdown",
   "id": "9c41b35aa14d3d36",
   "metadata": {},
   "source": [
    "В качестве первого метода защиты добавим нормализацию входов в модель. Это уже должно будет снизить эффективность Adv. примеров, поскольку они существенно отличаются от нормальных примеров."
   ]
  },
  {
   "cell_type": "code",
   "id": "e265f7fbe01e8266",
   "metadata": {
    "ExecuteTime": {
     "end_time": "2025-06-15T19:41:14.493211Z",
     "start_time": "2025-06-15T19:41:14.488158Z"
    }
   },
   "source": [
    "from torchvision import transforms\n",
    "\n",
    "train_tf = transforms.Compose([\n",
    "        transforms.Resize((IMG_SIZE, IMG_SIZE)),\n",
    "        transforms.ToTensor(),\n",
    "        transforms.Normalize(mean, std)\n",
    "])"
   ],
   "outputs": [],
   "execution_count": 15
  },
  {
   "cell_type": "markdown",
   "id": "81ce71c0646429fe",
   "metadata": {},
   "source": "Загрузим модель. Эксперименты показали, что при такой организации, обучение модели с нуля показывает себя эффективнее дообучения. Больше информации и других экспериментах будет представлено в конце."
  },
  {
   "cell_type": "code",
   "id": "132d6326fc63d55d",
   "metadata": {
    "ExecuteTime": {
     "end_time": "2025-06-15T19:41:16.896826Z",
     "start_time": "2025-06-15T19:41:16.891957Z"
    }
   },
   "source": [
    "class YoloClsAdapter(torch.nn.Module):\n",
    "    def __init__(self, core_model):\n",
    "        super().__init__()\n",
    "        self.core = core_model\n",
    "\n",
    "    def forward(self, x):\n",
    "        y = self.core(x)\n",
    "        if isinstance(y, (tuple, list)):\n",
    "            y = y[-1]\n",
    "        return y"
   ],
   "outputs": [],
   "execution_count": 16
  },
  {
   "cell_type": "code",
   "id": "666328e7bef43300",
   "metadata": {
    "ExecuteTime": {
     "end_time": "2025-06-15T20:27:51.645785Z",
     "start_time": "2025-06-15T20:27:51.545681Z"
    }
   },
   "source": [
    "from ultralytics import YOLO\n",
    "from art.estimators.classification import PyTorchClassifier\n",
    "\n",
    "yolo  = YOLO('yolov8s-cls.pt')\n",
    "for p in yolo.model.parameters():\n",
    "    p.requires_grad_(True)\n",
    "adapter = YoloClsAdapter(yolo.model).to(device)\n",
    "\n",
    "loss = torch.nn.CrossEntropyLoss()\n",
    "optimizer = torch.optim.AdamW(\n",
    "    adapter.parameters(),\n",
    "    lr=LR,\n",
    "    weight_decay=WEIGHT_DECAY\n",
    ")\n",
    "scheduler = torch.optim.lr_scheduler.CosineAnnealingLR(optimizer, T_max=EPOCHS)\n",
    "\n",
    "classifier = PyTorchClassifier(\n",
    "    model=adapter,\n",
    "    loss=loss,\n",
    "    optimizer=optimizer,\n",
    "    nb_classes=10,\n",
    "    input_shape=(3, IMG_SIZE, IMG_SIZE),\n",
    "    device_type=device\n",
    ")"
   ],
   "outputs": [],
   "execution_count": 33
  },
  {
   "cell_type": "markdown",
   "id": "1369c19fb6208e01",
   "metadata": {},
   "source": [
    "Считаем обучающую и валидационную выборки.\n",
    "\n",
    "Обучающая выборка представляется в виде DataGenerator, поскольку целиком в оперативную память она не поместится, а вот валидационную в виду малого размера с целью ускорения можно загрузить целиком."
   ]
  },
  {
   "metadata": {
    "ExecuteTime": {
     "end_time": "2025-06-15T19:45:32.225987Z",
     "start_time": "2025-06-15T19:45:21.154260Z"
    }
   },
   "cell_type": "code",
   "source": [
    "from art.data_generators import PyTorchDataGenerator\n",
    "from torch.utils.data import DataLoader\n",
    "from torchvision.datasets import ImageFolder\n",
    "\n",
    "train_ds = ImageFolder(root=DATA_DIR / \"train\",\n",
    "                       transform=train_tf)\n",
    "train_loader = DataLoader(train_ds,\n",
    "                          batch_size=BATCH_SIZE,\n",
    "                          shuffle=SHUFFLE_DS,\n",
    "                          num_workers=4,\n",
    "                          pin_memory=True)\n",
    "train_gen = PyTorchDataGenerator(iterator=train_loader,\n",
    "                                 size=len(train_ds),\n",
    "                                 batch_size=BATCH_SIZE)"
   ],
   "id": "ac22eff68065943",
   "outputs": [],
   "execution_count": 20
  },
  {
   "metadata": {
    "ExecuteTime": {
     "end_time": "2025-06-15T19:45:39.607485Z",
     "start_time": "2025-06-15T19:45:38.515582Z"
    }
   },
   "cell_type": "code",
   "source": [
    "from PIL import Image\n",
    "from art.attacks.evasion import FastGradientMethod\n",
    "\n",
    "val_samples = 500\n",
    "all_files = list((DATA_DIR / 'test').glob(\"*/*.png\"))\n",
    "assert all_files, f\"Ничего не найдено в {DATA_DIR}\"\n",
    "\n",
    "idx_files = random.sample(all_files, val_samples)\n",
    "\n",
    "val_x, val_y = [], []\n",
    "for fp in idx_files:\n",
    "    img = Image.open(fp).convert(\"RGB\")\n",
    "    arr = yolo.model.transforms(img)\n",
    "    val_x.append(arr)\n",
    "    val_y.append(int(fp.parent.name))\n",
    "\n",
    "val_x = np.stack(val_x, axis=0)\n",
    "val_y = np.asarray(val_y)"
   ],
   "id": "8acb0d475fafa94a",
   "outputs": [],
   "execution_count": 21
  },
  {
   "metadata": {},
   "cell_type": "markdown",
   "source": [
    "Отдельно сгенерируем валидационную adversarial выборку, чтобы прямо во время обучения мы могли следить за качеством на обоих вариантах выборок.\n",
    "\n",
    "Обратим внимание, что для генерации adv. примеров требуется обученная модель, возьмём её из предыдущей работы"
   ],
   "id": "c2eb2f5d89734b33"
  },
  {
   "metadata": {
    "ExecuteTime": {
     "end_time": "2025-06-15T12:23:52.074984Z",
     "start_time": "2025-06-15T12:23:48.105116Z"
    }
   },
   "cell_type": "code",
   "source": [
    "clean_yolo  = YOLO(MODEL_PATH)\n",
    "clean_adapter = YoloClsAdapter(yolo.model).to(device)\n",
    "\n",
    "clean_loss = torch.nn.CrossEntropyLoss()\n",
    "clean_optimizer = torch.optim.AdamW(\n",
    "    adapter.parameters(),\n",
    "    lr=LR,\n",
    "    weight_decay=WEIGHT_DECAY\n",
    ")\n",
    "\n",
    "clean_classifier = PyTorchClassifier(\n",
    "    model=adapter,\n",
    "    loss=loss,\n",
    "    optimizer=optimizer,\n",
    "    nb_classes=10,\n",
    "    input_shape=(3, IMG_SIZE, IMG_SIZE),\n",
    "    device_type=device\n",
    ")\n",
    "\n",
    "attack = FastGradientMethod(estimator=clean_classifier, eps=EPS)\n",
    "x_adv  = attack.generate(x=val_x)"
   ],
   "id": "68003074fb04987",
   "outputs": [],
   "execution_count": 7
  },
  {
   "metadata": {},
   "cell_type": "markdown",
   "source": [
    "## Обучение\n",
    "Наконец можем перейти к обучению. Опять же, эксперименты показали, что при текущей кофигурации, наилучшего качества можно добиться при всего 5 эпохах.\n",
    "\n",
    "Скорее всего, настолько малое количество требуемых эпох обусловлено относительной простотой задачи, малым размером картинок и достаточно большой обучающей выборкой (72000 примеров в данном случае это достаточно много, причем за счёт генерации adv. примеров получается около 100000 примеров за эпоху).\n",
    "\n",
    "Отдельно рассмотрим параметры adversarial обучения:\n",
    "- epsilon = 8/255, это стандартное значение, которое, в том числе, использовалось в предыдущей работе и показало лучшее соотношение эффективности и незаметности\n",
    "- ration = 0.3 - в первую очередь модель должна показывать хорошие показатели на нормальных примерах, и уже во вторую идет защита от атак. Значение в 0.3 показывает хорошее соотношение clean и adversarial accuracy, которые будут продемонстрированы далее"
   ],
   "id": "3a49d47aa515c6f4"
  },
  {
   "cell_type": "code",
   "id": "afc822c6bb08b16f",
   "metadata": {},
   "source": [
    "from tqdm import tqdm\n",
    "from IPython.core.display_functions import clear_output\n",
    "from matplotlib import pyplot as plt\n",
    "from art.defences.trainer import AdversarialTrainer\n",
    "from art.attacks.evasion import FastGradientMethod\n",
    "\n",
    "attack = FastGradientMethod(\n",
    "    estimator=classifier,\n",
    "    eps=EPS,\n",
    "    norm=np.inf\n",
    ")\n",
    "\n",
    "adv_trainer = AdversarialTrainer(\n",
    "    classifier=classifier,\n",
    "    attacks=attack,\n",
    "    ratio=0.5,\n",
    ")\n",
    "\n",
    "fig, ax = plt.subplots(figsize=(8, 5))\n",
    "ax.set_xlim(1, EPOCHS)\n",
    "ax.set_ylim(0, 1)\n",
    "ax.set_xlabel('Epoch')\n",
    "ax.set_ylabel('Accuracy')\n",
    "ax.set_title('Clean vs Adversarial Accuracy (real-time)')\n",
    "line_clean, = ax.plot([], [], label='Clean', color='blue')\n",
    "line_adv,   = ax.plot([], [], label='Adversarial', color='red')\n",
    "ax.legend()\n",
    "display(fig)\n",
    "\n",
    "clean_accs = []\n",
    "adv_accs = []\n",
    "\n",
    "best_f = 0.0\n",
    "for epoch in tqdm(range(1, EPOCHS + 1), desc='Epochs'):\n",
    "    adv_trainer.fit_generator(train_gen, nb_epochs=1)\n",
    "\n",
    "    preds_clean = adv_trainer.predict(val_x)\n",
    "    acc_clean = np.mean(np.argmax(preds_clean, axis=1) == val_y)\n",
    "    preds_adv = adv_trainer.predict(x_adv)\n",
    "    acc_adv = np.mean(np.argmax(preds_adv, axis=1) == val_y)\n",
    "\n",
    "    F = 2 * acc_clean * acc_adv / (acc_clean + acc_adv)\n",
    "    display(f'[EPOCH {epoch}] Clean_acc: {acc_clean:.2f}. Adv_acc: {acc_adv:.2f}. F: {F:.2f}')\n",
    "    if F >= best_f:\n",
    "        rob_clas = adv_trainer.get_classifier()\n",
    "        rob_clas.save('best_robust_classifier.pt', 'models')\n",
    "\n",
    "    x_epochs = list(range(1, epoch + 1))\n",
    "    clean_accs.append(acc_clean)\n",
    "    adv_accs.append(acc_adv)\n",
    "    line_clean.set_data(x_epochs, clean_accs)\n",
    "    line_adv.set_data(x_epochs, adv_accs)\n",
    "\n",
    "    clear_output()\n",
    "    display(fig)\n",
    "\n",
    "robust_classifier = adv_trainer.get_classifier()\n",
    "robust_classifier.save('robust_classifier8.pt', 'models')"
   ],
   "execution_count": 45,
   "outputs": [
    {
     "data": {
      "text/plain": [
       "<Figure size 800x500 with 1 Axes>"
      ],
      "image/png": "[encoded data removed]"
     },
     "metadata": {},
     "output_type": "display_data"
    },
    {
     "name": "stderr",
     "output_type": "stream",
     "text": [
      "Epochs:  15%|█▌        | 3/20 [18:20<1:44:30, 368.84s/it]"
     ]
    },
    {
     "data": {
      "text/plain": [
       "Precompute adversarial examples.:   0%|          | 0/1 [00:00<?, ?it/s]"
      ],
      "application/vnd.jupyter.widget-view+json": {
       "version_major": 2,
       "version_minor": 0,
       "model_id": "f52859c4deab4cde84ac753a7780b002"
      }
     },
     "metadata": {},
     "output_type": "display_data"
    },
    {
     "data": {
      "text/plain": [
       "Adversarial training epochs:   0%|          | 0/1 [00:00<?, ?it/s]"
      ],
      "application/vnd.jupyter.widget-view+json": {
       "version_major": 2,
       "version_minor": 0,
       "model_id": "4f295948cd90463fb24073c066a3f792"
      }
     },
     "metadata": {},
     "output_type": "display_data"
    },
    {
     "name": "stderr",
     "output_type": "stream",
     "text": [
      "Epochs:  15%|█▌        | 3/20 [21:21<2:01:00, 427.10s/it]\n"
     ]
    },
    {
     "ename": "KeyboardInterrupt",
     "evalue": "",
     "output_type": "error",
     "traceback": [
      "\u001B[31m---------------------------------------------------------------------------\u001B[39m",
      "\u001B[31mKeyboardInterrupt\u001B[39m                         Traceback (most recent call last)",
      "\u001B[36mCell\u001B[39m\u001B[36m \u001B[39m\u001B[32mIn[45]\u001B[39m\u001B[32m, line 35\u001B[39m\n\u001B[32m     33\u001B[39m best_f = \u001B[32m0.0\u001B[39m\n\u001B[32m     34\u001B[39m \u001B[38;5;28;01mfor\u001B[39;00m epoch \u001B[38;5;129;01min\u001B[39;00m tqdm(\u001B[38;5;28mrange\u001B[39m(\u001B[32m1\u001B[39m, EPOCHS + \u001B[32m1\u001B[39m), desc=\u001B[33m'\u001B[39m\u001B[33mEpochs\u001B[39m\u001B[33m'\u001B[39m):\n\u001B[32m---> \u001B[39m\u001B[32m35\u001B[39m     \u001B[43madv_trainer\u001B[49m\u001B[43m.\u001B[49m\u001B[43mfit_generator\u001B[49m\u001B[43m(\u001B[49m\u001B[43mtrain_gen\u001B[49m\u001B[43m,\u001B[49m\u001B[43m \u001B[49m\u001B[43mnb_epochs\u001B[49m\u001B[43m=\u001B[49m\u001B[32;43m1\u001B[39;49m\u001B[43m)\u001B[49m\n\u001B[32m     37\u001B[39m     preds_clean = adv_trainer.predict(val_x)\n\u001B[32m     38\u001B[39m     acc_clean = np.mean(np.argmax(preds_clean, axis=\u001B[32m1\u001B[39m) == val_y)\n",
      "\u001B[36mFile \u001B[39m\u001B[32m~\\AppData\\Local\\Programs\\Python\\Python311\\Lib\\site-packages\\art\\defences\\trainer\\adversarial_trainer.py:171\u001B[39m, in \u001B[36mAdversarialTrainer.fit_generator\u001B[39m\u001B[34m(self, generator, nb_epochs, **kwargs)\u001B[39m\n\u001B[32m    168\u001B[39m         adv_ids = np.array(\u001B[38;5;28mlist\u001B[39m(\u001B[38;5;28mrange\u001B[39m(x_batch.shape[\u001B[32m0\u001B[39m])))\n\u001B[32m    169\u001B[39m         np.random.shuffle(adv_ids)\n\u001B[32m--> \u001B[39m\u001B[32m171\u001B[39m     x_batch[adv_ids] = \u001B[43mattack\u001B[49m\u001B[43m.\u001B[49m\u001B[43mgenerate\u001B[49m\u001B[43m(\u001B[49m\u001B[43mx_batch\u001B[49m\u001B[43m[\u001B[49m\u001B[43madv_ids\u001B[49m\u001B[43m]\u001B[49m\u001B[43m,\u001B[49m\u001B[43m \u001B[49m\u001B[43my\u001B[49m\u001B[43m=\u001B[49m\u001B[43my_batch\u001B[49m\u001B[43m[\u001B[49m\u001B[43madv_ids\u001B[49m\u001B[43m]\u001B[49m\u001B[43m)\u001B[49m\n\u001B[32m    173\u001B[39m \u001B[38;5;66;03m# Otherwise, use precomputed adversarial samples\u001B[39;00m\n\u001B[32m    174\u001B[39m \u001B[38;5;28;01melse\u001B[39;00m:\n\u001B[32m    175\u001B[39m     batch_size_current = \u001B[38;5;28mmin\u001B[39m(batch_size, generator.size - batch_id * batch_size)\n",
      "\u001B[36mFile \u001B[39m\u001B[32m~\\AppData\\Local\\Programs\\Python\\Python311\\Lib\\site-packages\\art\\attacks\\evasion\\fast_gradient.py:263\u001B[39m, in \u001B[36mFastGradientMethod.generate\u001B[39m\u001B[34m(self, x, y, **kwargs)\u001B[39m\n\u001B[32m    261\u001B[39m rate_best = \u001B[32m0.0\u001B[39m\n\u001B[32m    262\u001B[39m \u001B[38;5;28;01mfor\u001B[39;00m _ \u001B[38;5;129;01min\u001B[39;00m \u001B[38;5;28mrange\u001B[39m(\u001B[38;5;28mmax\u001B[39m(\u001B[32m1\u001B[39m, \u001B[38;5;28mself\u001B[39m.num_random_init)):\n\u001B[32m--> \u001B[39m\u001B[32m263\u001B[39m     adv_x = \u001B[38;5;28;43mself\u001B[39;49m\u001B[43m.\u001B[49m\u001B[43m_compute\u001B[49m\u001B[43m(\u001B[49m\n\u001B[32m    264\u001B[39m \u001B[43m        \u001B[49m\u001B[43mx\u001B[49m\u001B[43m,\u001B[49m\n\u001B[32m    265\u001B[39m \u001B[43m        \u001B[49m\u001B[43mx\u001B[49m\u001B[43m,\u001B[49m\n\u001B[32m    266\u001B[39m \u001B[43m        \u001B[49m\u001B[43my_array\u001B[49m\u001B[43m,\u001B[49m\n\u001B[32m    267\u001B[39m \u001B[43m        \u001B[49m\u001B[43mmask\u001B[49m\u001B[43m,\u001B[49m\n\u001B[32m    268\u001B[39m \u001B[43m        \u001B[49m\u001B[38;5;28;43mself\u001B[39;49m\u001B[43m.\u001B[49m\u001B[43meps\u001B[49m\u001B[43m,\u001B[49m\n\u001B[32m    269\u001B[39m \u001B[43m        \u001B[49m\u001B[38;5;28;43mself\u001B[39;49m\u001B[43m.\u001B[49m\u001B[43meps\u001B[49m\u001B[43m,\u001B[49m\n\u001B[32m    270\u001B[39m \u001B[43m        \u001B[49m\u001B[38;5;28;43mself\u001B[39;49m\u001B[43m.\u001B[49m\u001B[43m_project\u001B[49m\u001B[43m,\u001B[49m\n\u001B[32m    271\u001B[39m \u001B[43m        \u001B[49m\u001B[38;5;28;43mself\u001B[39;49m\u001B[43m.\u001B[49m\u001B[43mnum_random_init\u001B[49m\u001B[43m \u001B[49m\u001B[43m>\u001B[49m\u001B[43m \u001B[49m\u001B[32;43m0\u001B[39;49m\u001B[43m,\u001B[49m\n\u001B[32m    272\u001B[39m \u001B[43m    \u001B[49m\u001B[43m)\u001B[49m\n\u001B[32m    274\u001B[39m     \u001B[38;5;28;01mif\u001B[39;00m \u001B[38;5;28mself\u001B[39m.num_random_init > \u001B[32m1\u001B[39m:\n\u001B[32m    275\u001B[39m         rate = \u001B[32m100\u001B[39m * compute_success(\n\u001B[32m    276\u001B[39m             \u001B[38;5;28mself\u001B[39m.estimator,  \u001B[38;5;66;03m# type: ignore\u001B[39;00m\n\u001B[32m    277\u001B[39m             x,\n\u001B[32m   (...)\u001B[39m\u001B[32m    281\u001B[39m             batch_size=\u001B[38;5;28mself\u001B[39m.batch_size,  \u001B[38;5;66;03m# type: ignore\u001B[39;00m\n\u001B[32m    282\u001B[39m         )\n",
      "\u001B[36mFile \u001B[39m\u001B[32m~\\AppData\\Local\\Programs\\Python\\Python311\\Lib\\site-packages\\art\\attacks\\evasion\\fast_gradient.py:550\u001B[39m, in \u001B[36mFastGradientMethod._compute\u001B[39m\u001B[34m(self, x, x_init, y, mask, eps, eps_step, project, random_init, batch_id_ext, decay, momentum)\u001B[39m\n\u001B[32m    547\u001B[39m         mask_batch = mask[batch_index_1:batch_index_2]\n\u001B[32m    549\u001B[39m \u001B[38;5;66;03m# Get perturbation\u001B[39;00m\n\u001B[32m--> \u001B[39m\u001B[32m550\u001B[39m perturbation = \u001B[38;5;28;43mself\u001B[39;49m\u001B[43m.\u001B[49m\u001B[43m_compute_perturbation\u001B[49m\u001B[43m(\u001B[49m\u001B[43mbatch\u001B[49m\u001B[43m,\u001B[49m\u001B[43m \u001B[49m\u001B[43mbatch_labels\u001B[49m\u001B[43m,\u001B[49m\u001B[43m \u001B[49m\u001B[43mmask_batch\u001B[49m\u001B[43m,\u001B[49m\u001B[43m \u001B[49m\u001B[43mdecay\u001B[49m\u001B[43m,\u001B[49m\u001B[43m \u001B[49m\u001B[43mmomentum\u001B[49m\u001B[43m)\u001B[49m\n\u001B[32m    552\u001B[39m batch_eps: \u001B[38;5;28mint\u001B[39m | \u001B[38;5;28mfloat\u001B[39m | np.ndarray\n\u001B[32m    553\u001B[39m batch_eps_step: \u001B[38;5;28mint\u001B[39m | \u001B[38;5;28mfloat\u001B[39m | np.ndarray\n",
      "\u001B[36mFile \u001B[39m\u001B[32m~\\AppData\\Local\\Programs\\Python\\Python311\\Lib\\site-packages\\art\\attacks\\evasion\\fast_gradient.py:468\u001B[39m, in \u001B[36mFastGradientMethod._compute_perturbation\u001B[39m\u001B[34m(self, x, y, mask, decay, momentum)\u001B[39m\n\u001B[32m    466\u001B[39m         \u001B[38;5;28;01massert\u001B[39;00m x[i_sample].shape == grad[i_sample].shape\n\u001B[32m    467\u001B[39m \u001B[38;5;28;01melse\u001B[39;00m:\n\u001B[32m--> \u001B[39m\u001B[32m468\u001B[39m     grad = \u001B[43m_apply_norm\u001B[49m\u001B[43m(\u001B[49m\u001B[38;5;28;43mself\u001B[39;49m\u001B[43m.\u001B[49m\u001B[43mnorm\u001B[49m\u001B[43m,\u001B[49m\u001B[43m \u001B[49m\u001B[43mgrad\u001B[49m\u001B[43m)\u001B[49m\n\u001B[32m    470\u001B[39m \u001B[38;5;28;01massert\u001B[39;00m x.shape == grad.shape\n\u001B[32m    472\u001B[39m \u001B[38;5;28;01mreturn\u001B[39;00m grad\n",
      "\u001B[36mFile \u001B[39m\u001B[32m~\\AppData\\Local\\Programs\\Python\\Python311\\Lib\\site-packages\\art\\attacks\\evasion\\fast_gradient.py:446\u001B[39m, in \u001B[36mFastGradientMethod._compute_perturbation.<locals>._apply_norm\u001B[39m\u001B[34m(norm, grad, object_type)\u001B[39m\n\u001B[32m    444\u001B[39m     q_norm = np.linalg.norm(grad_2d, \u001B[38;5;28mord\u001B[39m=conjugate, axis=\u001B[32m1\u001B[39m, keepdims=\u001B[38;5;28;01mTrue\u001B[39;00m)\n\u001B[32m    445\u001B[39m     grad_2d = (np.abs(grad_2d) / np.where(q_norm, q_norm, np.inf)) ** (conjugate - \u001B[32m1\u001B[39m)\n\u001B[32m--> \u001B[39m\u001B[32m446\u001B[39m grad = grad_2d.reshape(grad.shape) * \u001B[43mnp\u001B[49m\u001B[43m.\u001B[49m\u001B[43msign\u001B[49m\u001B[43m(\u001B[49m\u001B[43mgrad\u001B[49m\u001B[43m)\u001B[49m\n\u001B[32m    447\u001B[39m \u001B[38;5;28;01mreturn\u001B[39;00m grad\n",
      "\u001B[31mKeyboardInterrupt\u001B[39m: "
     ]
    },
    {
     "data": {
      "text/plain": [
       "<Figure size 800x500 with 1 Axes>"
      ],
      "image/png": "[encoded data removed]"
     },
     "metadata": {},
     "output_type": "display_data"
    }
   ]
  },
  {
   "metadata": {},
   "cell_type": "markdown",
   "source": "## Тестирование обученной модели",
   "id": "2398269a48b5c0be"
  },
  {
   "metadata": {
    "ExecuteTime": {
     "end_time": "2025-06-14T09:31:10.978759Z",
     "start_time": "2025-06-14T09:31:10.881819Z"
    }
   },
   "cell_type": "code",
   "source": [
    "data = torch.load('models/robust_classifier2.pt.model')\n",
    "data.keys"
   ],
   "id": "fb0439ff90faa2e7",
   "outputs": [
    {
     "data": {
      "text/plain": [
       "<function OrderedDict.keys>"
      ]
     },
     "execution_count": 40,
     "metadata": {},
     "output_type": "execute_result"
    }
   ],
   "execution_count": 40
  },
  {
   "metadata": {
    "ExecuteTime": {
     "end_time": "2025-06-14T09:39:22.084207Z",
     "start_time": "2025-06-14T09:39:21.939910Z"
    }
   },
   "cell_type": "code",
   "source": [
    "from ultralytics import YOLO\n",
    "import torch\n",
    "\n",
    "yolo = YOLO(MODEL_PATH)\n",
    "adapter = YoloClsAdapter(yolo.model).to(device)\n",
    "adapter.load_state_dict(torch.load('models/robust_classifier2.pt.model'))\n",
    "robust_classifier = PyTorchClassifier(\n",
    "    model=adapter,\n",
    "    loss=torch.nn.CrossEntropyLoss(),\n",
    "    nb_classes=10,\n",
    "    input_shape=(3, IMG_SIZE, IMG_SIZE),\n",
    "    clip_values=(0.0, 1.0),\n",
    "    device_type=device\n",
    ")"
   ],
   "id": "4e728f1ca508233a",
   "outputs": [],
   "execution_count": 53
  },
  {
   "metadata": {},
   "cell_type": "markdown",
   "source": "Теперь сравним качество изначальной и дообученной моделей как на чистой, так и на adv. выборках",
   "id": "eb89aca0c8aa1571"
  },
  {
   "metadata": {
    "ExecuteTime": {
     "end_time": "2025-06-15T20:27:05.084255Z",
     "start_time": "2025-06-15T20:27:05.037450Z"
    }
   },
   "cell_type": "code",
   "source": [
    "from art.estimators.classification import PyTorchClassifier\n",
    "\n",
    "basic_yolo  = YOLO(MODEL_PATH)\n",
    "adapter = YoloClsAdapter(basic_yolo.model).to(device).eval()\n",
    "\n",
    "loss = torch.nn.CrossEntropyLoss()\n",
    "\n",
    "basic_cls = PyTorchClassifier(\n",
    "    model=adapter,\n",
    "    loss=loss,\n",
    "    nb_classes=10,\n",
    "    input_shape=(3, IMG_SIZE, IMG_SIZE),\n",
    "    clip_values=(0.0, 1.0),\n",
    "    device_type=device\n",
    ")"
   ],
   "id": "6ed993476e1969b4",
   "outputs": [],
   "execution_count": 29
  },
  {
   "metadata": {
    "ExecuteTime": {
     "end_time": "2025-06-15T20:27:08.314286Z",
     "start_time": "2025-06-15T20:27:06.623603Z"
    }
   },
   "cell_type": "code",
   "source": [
    "from PIL import Image\n",
    "\n",
    "N_SAMPLES = 1000\n",
    "\n",
    "all_files = list((DATA_DIR / 'test').glob(\"*/*.png\"))\n",
    "assert all_files, f\"Ничего не найдено в {DATA_DIR}\"\n",
    "\n",
    "idx_files = random.sample(all_files, N_SAMPLES) # Выбираем N_SAMPLES картинок\n",
    "\n",
    "x, y = [], []\n",
    "for fp in idx_files:\n",
    "    img = Image.open(fp).convert(\"RGB\")\n",
    "    arr = basic_yolo.model.transforms(img)\n",
    "    x.append(arr)\n",
    "    y.append(int(fp.parent.name))\n",
    "\n",
    "clean_x = np.stack(x, axis=0)\n",
    "clean_y = np.asarray(y)\n",
    "clean_y"
   ],
   "id": "22029ee8158fea04",
   "outputs": [
    {
     "data": {
      "text/plain": [
       "array([9, 0, 3, 1, 2, 2, 7, 3, 9, 1, 1, 6, 2, 6, 7, 4, 2, 8, 9, 8, 7, 7, 1, 5, 3, 4, 0, 6, 2, 1, 2, 1, 0, 6, 8, 1, 4, 1, 2, 4, 3, 2, 6, 4, 4, 4, 1, 7, 1, 1, 0, 1, 1, 3, 3, 9, 4, 1, 6, 3, 2, 4, 2, 6, 6, 5, 2, 2, 4, 1, 7, 3, 2, 4, 3, 2, 2, 1, 0, 6, 2, 5, 5, 0, 1, 4, 4, 5, 0, 3, 4, 0, 7, 1, 5, 2, 2, 2, 5, 2, 6, 9, 3, 6,\n",
       "       9, 5, 2, 4, 4, 2, 2, 3, 1, 2, 0, 7, 5, 0, 3, 4, 6, 8, 2, 2, 4, 7, 2, 3, 2, 2, 1, 4, 1, 2, 2, 5, 2, 1, 2, 6, 5, 4, 6, 6, 2, 1, 9, 8, 5, 2, 8, 3, 1, 4, 0, 5, 8, 7, 1, 3, 0, 3, 7, 4, 1, 0, 2, 7, 9, 2, 0, 3, 4, 4, 6, 8, 6, 0, 4, 5, 4, 7, 4, 8, 1, 2, 2, 7, 2, 0, 4, 1, 7, 5, 3, 3, 8, 3, 6, 6, 9, 3, 2, 1, 1, 7, 6, 4,\n",
       "       0, 2, 2, 2, 1, 1, 2, 0, 1, 1, 5, 4, 3, 0, 3, 2, 4, 1, 2, 2, 8, 0, 1, 5, 6, 1, 1, 1, 1, 1, 4, 1, 1, 3, 3, 3, 3, 9, 0, 0, 3, 6, 7, 7, 6, 7, 1, 5, 6, 3, 9, 6, 2, 2, 6, 1, 2, 8, 4, 3, 1, 4, 8, 5, 8, 5, 8, 2, 3, 1, 4, 9, 1, 1, 3, 2, 1, 7, 6, 2, 2, 7, 9, 5, 0, 7, 0, 4, 5, 3, 1, 1, 2, 2, 7, 4, 3, 1, 8, 1, 9, 5, 0, 9,\n",
       "       5, 7, 4, 2, 6, 1, 1, 1, 4, 8, 8, 2, 2, 6, 4, 6, 1, 6, 1, 3, 2, 4, 2, 2, 6, 5, 2, 4, 3, 9, 7, 7, 4, 7, 5, 1, 8, 5, 1, 9, 9, 3, 5, 0, 2, 3, 8, 7, 4, 8, 2, 0, 2, 6, 5, 1, 1, 3, 5, 5, 5, 9, 4, 6, 9, 9, 3, 1, 2, 9, 9, 1, 4, 3, 4, 3, 9, 1, 3, 2, 5, 3, 1, 6, 1, 2, 3, 2, 5, 4, 2, 8, 3, 2, 7, 2, 3, 0, 9, 5, 1, 1, 4, 1,\n",
       "       9, 1, 6, 1, 5, 7, 8, 1, 4, 0, 3, 3, 9, 7, 7, 2, 8, 3, 2, 5, 6, 3, 8, 1, 6, 6, 1, 0, 9, 2, 4, 7, 1, 4, 3, 8, 3, 1, 0, 1, 6, 1, 2, 5, 7, 1, 1, 9, 4, 9, 5, 8, 1, 3, 3, 5, 1, 3, 4, 2, 8, 1, 3, 8, 9, 2, 1, 3, 0, 1, 3, 7, 4, 3, 2, 2, 2, 7, 0, 9, 8, 1, 7, 2, 9, 1, 2, 5, 7, 3, 1, 3, 2, 6, 5, 3, 0, 3, 2, 6, 2, 8, 7, 4,\n",
       "       3, 8, 6, 3, 8, 5, 2, 4, 2, 1, 6, 0, 7, 2, 3, 2, 9, 1, 1, 2, 5, 1, 1, 4, 1, 2, 1, 8, 5, 8, 2, 3, 2, 0, 2, 9, 1, 1, 0, 2, 2, 2, 4, 5, 0, 0, 6, 3, 8, 4, 5, 3, 3, 0, 8, 5, 2, 2, 7, 1, 8, 6, 7, 6, 6, 8, 9, 1, 7, 4, 4, 8, 1, 9, 8, 6, 0, 1, 5, 0, 7, 7, 2, 4, 2, 4, 6, 5, 4, 1, 3, 1, 7, 5, 6, 1, 5, 5, 3, 4, 1, 5, 9, 8,\n",
       "       1, 4, 1, 7, 3, 3, 6, 4, 6, 8, 0, 2, 5, 5, 8, 7, 1, 6, 9, 1, 2, 0, 1, 1, 6, 6, 1, 1, 4, 6, 9, 7, 1, 1, 4, 6, 9, 2, 2, 6, 6, 1, 3, 3, 7, 2, 7, 3, 4, 1, 4, 0, 1, 4, 1, 7, 0, 1, 4, 3, 4, 1, 5, 2, 0, 5, 8, 7, 4, 6, 1, 1, 5, 9, 8, 2, 8, 4, 1, 1, 8, 3, 9, 1, 6, 3, 1, 4, 0, 7, 4, 5, 8, 2, 1, 0, 7, 6, 2, 8, 6, 1, 0, 8,\n",
       "       9, 1, 1, 5, 7, 0, 2, 0, 9, 2, 6, 8, 2, 8, 1, 0, 0, 2, 1, 1, 1, 8, 0, 9, 3, 2, 2, 4, 1, 8, 9, 1, 8, 1, 5, 4, 5, 0, 2, 2, 1, 7, 4, 4, 4, 8, 1, 2, 7, 4, 2, 0, 2, 8, 4, 1, 8, 4, 0, 4, 8, 5, 8, 3, 2, 0, 2, 9, 7, 8, 9, 1, 4, 2, 7, 5, 4, 4, 6, 4, 6, 1, 7, 2, 1, 4, 4, 0, 3, 1, 1, 2, 0, 3, 1, 6, 6, 1, 0, 6, 8, 5, 1, 3,\n",
       "       3, 4, 7, 3, 5, 3, 6, 1, 5, 9, 1, 1, 4, 0, 1, 5, 7, 8, 2, 3, 7, 3, 1, 7, 2, 1, 7, 0, 8, 3, 1, 2, 1, 5, 7, 5, 9, 4, 5, 4, 1, 2, 1, 5, 1, 0, 2, 2, 4, 8, 2, 8, 3, 1, 7, 1, 2, 2, 2, 9, 2, 1, 2, 8, 3, 2, 4, 3, 2, 1, 2, 7, 2, 2, 3, 2, 8, 8, 7, 2, 1, 7, 8, 6, 1, 3, 1, 4, 8, 2, 0, 2, 0, 9, 1, 8, 7, 1, 6, 2, 5, 1, 0, 4,\n",
       "       0, 5, 1, 1, 1, 8, 1, 0, 7, 5, 0, 1, 5, 6, 2, 4, 7, 5, 7, 9, 1, 0, 6, 5, 1, 4, 2, 2, 3, 3, 1, 1, 1, 8, 2, 1, 2, 4, 5, 5, 1, 3, 1, 0, 1, 7, 7, 8, 8, 1, 2, 0, 5, 3, 4, 5, 2, 9, 1, 7, 1, 8, 6, 2])"
      ]
     },
     "execution_count": 30,
     "metadata": {},
     "output_type": "execute_result"
    }
   ],
   "execution_count": 30
  },
  {
   "metadata": {
    "ExecuteTime": {
     "end_time": "2025-06-15T20:51:53.504819Z",
     "start_time": "2025-06-15T20:51:41.610872Z"
    }
   },
   "cell_type": "code",
   "source": [
    "from art.attacks.evasion import FastGradientMethod\n",
    "\n",
    "EPS = 8/255\n",
    "\n",
    "# Генерируем FGSM по изначальной модели\n",
    "basic_fgsm = FastGradientMethod(estimator=basic_cls, eps=EPS)\n",
    "basic_x_fgsm  = basic_fgsm.generate(x=clean_x)\n",
    "\n",
    "# FGSM по защищённой модели\n",
    "robust_fgsm = FastGradientMethod(estimator=robust_classifier, eps=EPS)\n",
    "robust_x_fgsm  = basic_fgsm.generate(x=clean_x)"
   ],
   "id": "c5542e50479de86d",
   "outputs": [],
   "execution_count": 36
  },
  {
   "metadata": {
    "ExecuteTime": {
     "end_time": "2025-06-14T16:46:54.132289Z",
     "start_time": "2025-06-14T16:46:52.235825Z"
    }
   },
   "cell_type": "code",
   "source": [
    "train_gen = ChunkedGenerator(\n",
    "    DATA_DIR / \"test\",\n",
    "    chunk=1000,\n",
    "    batch_size=1000,\n",
    "    shuffle=False,\n",
    ")\n",
    "x, y = train_gen.get_batch()"
   ],
   "id": "98d9e655df75266a",
   "outputs": [],
   "execution_count": 102
  },
  {
   "metadata": {
    "ExecuteTime": {
     "end_time": "2025-06-15T20:53:00.924584Z",
     "start_time": "2025-06-15T20:53:00.272332Z"
    }
   },
   "cell_type": "code",
   "source": [
    "from sklearn.metrics import accuracy_score\n",
    "\n",
    "accuracy_score(val_y, adv_trainer.predict(x_adv).argmax(1))"
   ],
   "id": "9ae348290692a986",
   "outputs": [
    {
     "data": {
      "text/plain": [
       "0.138"
      ]
     },
     "execution_count": 39,
     "metadata": {},
     "output_type": "execute_result"
    }
   ],
   "execution_count": 39
  },
  {
   "metadata": {
    "ExecuteTime": {
     "end_time": "2025-06-14T20:32:28.136104Z",
     "start_time": "2025-06-14T20:32:21.842384Z"
    }
   },
   "cell_type": "code",
   "source": [
    "import pandas as pd\n",
    "\n",
    "# ❶ Cводим всё в словари --------------------------------------------------------\n",
    "tests   = dict(  # порядок сохранится как объявлен\n",
    "    clean_train   = clean_x,\n",
    "    basic_x_fgsm  = basic_x_fgsm,\n",
    "    robust_x_fgsm = robust_x_fgsm\n",
    ")\n",
    "models  = dict(basic = basic_cls, robust = robust_classifier)\n",
    "\n",
    "# ❷ Предсказания всех (model × test) за один проход ----------------------------\n",
    "preds = {\n",
    "    (m, t): mdl.predict(x).argmax(1)          # argmax → метки классов\n",
    "    for m, mdl in models.items()\n",
    "    for t, x   in tests.items()\n",
    "}\n",
    "\n",
    "cols = [\"basic_accuracy\", \"basic_ASR\", \"robust_accuracy\", \"robust_ASR\"]\n",
    "df = pd.DataFrame(index=tests, columns=cols, dtype=\"float32\")\n",
    "\n",
    "for m in models:\n",
    "    clean_pred = preds[(m, \"clean_train\")]\n",
    "    acc_col = f\"{m}_accuracy\"\n",
    "    asr_col = f\"{m}_ASR\"\n",
    "\n",
    "    for t in tests:\n",
    "        adv_pred = preds[(m, t)]\n",
    "        accuracy = np.mean(adv_pred == clean_y)\n",
    "        if t == \"clean_train\":\n",
    "            asr = 0\n",
    "        else:\n",
    "            asr = np.mean((clean_pred == clean_y) & (adv_pred != clean_y))\n",
    "\n",
    "        df.at[t, acc_col] = accuracy\n",
    "        df.at[t, asr_col] = asr\n",
    "\n",
    "df"
   ],
   "id": "2e7dee92aa45c1e7",
   "outputs": [
    {
     "name": "stderr",
     "output_type": "stream",
     "text": [
      "C:\\Users\\ok__\\AppData\\Local\\Temp\\ipykernel_19856\\1630435535.py:34: FutureWarning: Setting an item of incompatible dtype is deprecated and will raise an error in a future version of pandas. Value '0.973' has dtype incompatible with float32, please explicitly cast to a compatible dtype first.\n",
      "  df.at[t, acc_col] = accuracy\n",
      "C:\\Users\\ok__\\AppData\\Local\\Temp\\ipykernel_19856\\1630435535.py:35: FutureWarning: Setting an item of incompatible dtype is deprecated and will raise an error in a future version of pandas. Value '0.804' has dtype incompatible with float32, please explicitly cast to a compatible dtype first.\n",
      "  df.at[t, asr_col] = asr\n",
      "C:\\Users\\ok__\\AppData\\Local\\Temp\\ipykernel_19856\\1630435535.py:34: FutureWarning: Setting an item of incompatible dtype is deprecated and will raise an error in a future version of pandas. Value '0.191' has dtype incompatible with float32, please explicitly cast to a compatible dtype first.\n",
      "  df.at[t, acc_col] = accuracy\n"
     ]
    },
    {
     "data": {
      "text/plain": [
       "               basic_accuracy  basic_ASR  robust_accuracy  robust_ASR\n",
       "clean_train             0.973      0.000            0.191         0.0\n",
       "basic_x_fgsm            0.172      0.804            0.191         0.0\n",
       "robust_x_fgsm           0.172      0.804            0.191         0.0"
      ],
      "text/html": [
       "<div>\n",
       "<style scoped>\n",
       "    .dataframe tbody tr th:only-of-type {\n",
       "        vertical-align: middle;\n",
       "    }\n",
       "\n",
       "    .dataframe tbody tr th {\n",
       "        vertical-align: top;\n",
       "    }\n",
       "\n",
       "    .dataframe thead th {\n",
       "        text-align: right;\n",
       "    }\n",
       "</style>\n",
       "<table border=\"1\" class=\"dataframe\">\n",
       "  <thead>\n",
       "    <tr style=\"text-align: right;\">\n",
       "      <th></th>\n",
       "      <th>basic_accuracy</th>\n",
       "      <th>basic_ASR</th>\n",
       "      <th>robust_accuracy</th>\n",
       "      <th>robust_ASR</th>\n",
       "    </tr>\n",
       "  </thead>\n",
       "  <tbody>\n",
       "    <tr>\n",
       "      <th>clean_train</th>\n",
       "      <td>0.973</td>\n",
       "      <td>0.000</td>\n",
       "      <td>0.191</td>\n",
       "      <td>0.0</td>\n",
       "    </tr>\n",
       "    <tr>\n",
       "      <th>basic_x_fgsm</th>\n",
       "      <td>0.172</td>\n",
       "      <td>0.804</td>\n",
       "      <td>0.191</td>\n",
       "      <td>0.0</td>\n",
       "    </tr>\n",
       "    <tr>\n",
       "      <th>robust_x_fgsm</th>\n",
       "      <td>0.172</td>\n",
       "      <td>0.804</td>\n",
       "      <td>0.191</td>\n",
       "      <td>0.0</td>\n",
       "    </tr>\n",
       "  </tbody>\n",
       "</table>\n",
       "</div>"
      ]
     },
     "execution_count": 121,
     "metadata": {},
     "output_type": "execute_result"
    }
   ],
   "execution_count": 121
  }
 ],
 "metadata": {
  "kernelspec": {
   "display_name": "Python 3 (ipykernel)",
   "language": "python",
   "name": "python3"
  },
  "language_info": {
   "codemirror_mode": {
    "name": "ipython",
    "version": 3
   },
   "file_extension": ".py",
   "mimetype": "text/x-python",
   "name": "python",
   "nbconvert_exporter": "python",
   "pygments_lexer": "ipython3",
   "version": "3.11.9"
  }
 },
 "nbformat": 4,
 "nbformat_minor": 5
}
